{
 "cells": [
  {
   "cell_type": "markdown",
   "metadata": {
    "id": "q04OFOqpzNBI"
   },
   "source": [
    "2021 Created by the AI & Reasoning Group, Robert Gordon University. © 2021"
   ]
  },
  {
   "cell_type": "markdown",
   "metadata": {
    "id": "cvqa_p2-AM0D"
   },
   "source": [
    "## **Getting started**\n",
    "\n",
    "The document you are reading is not a static web page, but an interactive environment called a **Colab notebook** that lets you write and execute code.\n",
    "\n",
    "For example, here is a **code cell** with a short Python script that computes a value, stores it in a variable, and prints the result:"
   ]
  },
  {
   "cell_type": "code",
   "execution_count": 1,
   "metadata": {
    "id": "Wh1b1LXuAM0D"
   },
   "outputs": [
    {
     "data": {
      "text/plain": [
       "86400"
      ]
     },
     "execution_count": 1,
     "metadata": {},
     "output_type": "execute_result"
    }
   ],
   "source": [
    "seconds_in_a_day = 24 * 60 * 60\n",
    "seconds_in_a_day"
   ]
  },
  {
   "cell_type": "markdown",
   "metadata": {
    "id": "HccTuV9SAM0D"
   },
   "source": [
    "To execute the code in the above cell, select it with a click and then either press the play button to the left of the code, or use the keyboard shortcut \"Command/Ctrl+Enter\". To edit the code, just click the cell and start editing.\n",
    "\n",
    "Variables that you define in one cell can later be used in other cells:"
   ]
  },
  {
   "cell_type": "code",
   "execution_count": 2,
   "metadata": {
    "id": "AzDT8S0SAM0D"
   },
   "outputs": [
    {
     "data": {
      "text/plain": [
       "604800"
      ]
     },
     "execution_count": 2,
     "metadata": {},
     "output_type": "execute_result"
    }
   ],
   "source": [
    "seconds_in_a_week = 7 * seconds_in_a_day\n",
    "seconds_in_a_week"
   ]
  },
  {
   "cell_type": "markdown",
   "metadata": {
    "id": "ig73lnYDAM0D"
   },
   "source": [
    "Colab notebooks allow you to combine **executable code** and **rich text** in a single document, along with **images**, **HTML**, **LaTeX** and more. When you create your own Colab notebooks, they are stored in your Google Drive account. You can easily share your Colab notebooks with co-workers or friends, allowing them to comment on your notebooks or even edit them. To learn more, see [Overview of Colab](/notebooks/basic_features_overview.ipynb). To create a new Colab notebook you can use the File menu above, or use the following link: [create a new Colab notebook](http://colab.research.google.com#create=true).\n",
    "\n",
    "Colab notebooks are Jupyter notebooks that are hosted by Colab. To learn more about the Jupyter project, see [jupyter.org](https://www.jupyter.org)."
   ]
  },
  {
   "cell_type": "markdown",
   "metadata": {
    "id": "dzNng6vCL9eP"
   },
   "source": [
    "## Python Tutorial With Jupyter Notebook"
   ]
  },
  {
   "cell_type": "markdown",
   "metadata": {
    "id": "SvjiCG8GFCSu"
   },
   "source": [
    "## What is a Jupyter Notebook?"
   ]
  },
  {
   "cell_type": "markdown",
   "metadata": {
    "id": "ctGLXmxzFCSv"
   },
   "source": [
    "A Jupyter notebook is made up of a number of cells. Each cell can contain Python code. There are two main types of cells: `Code` cells and `Markdown` cells. This particular cell is a `Markdown` cell. You can execute a particular cell by double clicking on it (the highlight color will switch from blue to green) and pressing `Shift-Enter`. Or just press the Run button. When you do so, if the cell is a `Code` cell, the code in the cell will run, and the output of the cell will be displayed beneath the cell, and if the cell is a `Markdown` cell, the markdown text will get rendered beneath the cell.\n",
    "\n",
    "Go ahead and try executing this cell."
   ]
  },
  {
   "cell_type": "markdown",
   "metadata": {
    "id": "GTg0LqPEFCSv"
   },
   "source": [
    "The cell below is a `Code` cell. Go ahead and click it, then execute it."
   ]
  },
  {
   "cell_type": "code",
   "execution_count": 3,
   "metadata": {
    "id": "CDQZusDIFCSw"
   },
   "outputs": [
    {
     "name": "stdout",
     "output_type": "stream",
     "text": [
      "1\n"
     ]
    }
   ],
   "source": [
    "x = 1\n",
    "print(x)"
   ]
  },
  {
   "cell_type": "markdown",
   "metadata": {
    "id": "PeMrLufsFCSx"
   },
   "source": [
    "Global variables are shared between cells. Try executing the cell below:"
   ]
  },
  {
   "cell_type": "code",
   "execution_count": 4,
   "metadata": {
    "id": "huYq7zTKFCSy"
   },
   "outputs": [
    {
     "name": "stdout",
     "output_type": "stream",
     "text": [
      "2\n"
     ]
    }
   ],
   "source": [
    "y = 2 * x\n",
    "print(y)"
   ]
  },
  {
   "cell_type": "markdown",
   "metadata": {
    "id": "oAX3r41WFCSz"
   },
   "source": [
    "### Keyboard Shortcuts\n",
    "\n",
    "There are a few keyboard shortcuts you should be aware of to make your notebook experience more pleasant. To escape editing of a cell, press `esc`. Escaping a `Markdown` cell won't render it, so make sure to execute it if you wish to render the markdown. Notice how the highlight color switches back to blue when you have escaped a cell.\n",
    "\n",
    "You can navigate between cells by pressing your arrow keys. Executing a cell automatically shifts the cell cursor down 1 cell if one exists, or creates a new cell below the current one if none exist.\n",
    "\n",
    "* To place a cell below the current one, press `b`.\n",
    "* To place a cell above the current one, press `a`.\n",
    "* To delete a cell, press `dd`.\n",
    "* To convert a cell to `Markdown` press `m`. Note you have to be in `esc` mode.\n",
    "* To convert it back to `Code` press `y`. Note you have to be in `esc` mode.\n",
    "\n",
    "Get familiar with these keyboard shortcuts, they really help!"
   ]
  },
  {
   "cell_type": "markdown",
   "metadata": {
    "id": "K6Mp5t0kFCS0"
   },
   "source": [
    "You can restart `Runtime -> Restart Runtime` a notebook and clear `Edit -> Clear Output` all cells by clicking . If you don't want to clear cell outputs, just hit `Kernel -> Restart`.\n",
    "\n",
    "By convention, Jupyter notebooks are expected to be run from top to bottom. Failing to execute some cells or executing cells out of order can result in errors. After restarting the notebook, try running the `y = 2 * x` cell 2 cells above and observe what happens."
   ]
  },
  {
   "cell_type": "markdown",
   "metadata": {
    "id": "p3T7acA_FCS0"
   },
   "source": [
    "After you have modified a Jupyter notebook for one of the assignments by modifying or executing some of its cells, remember to save your changes! You can save with the `Command/Control + s` shortcut or by clicking `File -> Save and Checkpoint`."
   ]
  },
  {
   "cell_type": "markdown",
   "metadata": {
    "id": "ZYIsUhKYFCS0"
   },
   "source": [
    "If you want to edit a markdown cell like this one; try double-clicking then change some content and press escape.\n",
    "Remember you need to execute the cell before the content can be rendered.\n",
    "This has only been a brief introduction to Jupyter notebooks, but it should be enough to get you up and running on the assignments for this course."
   ]
  },
  {
   "cell_type": "markdown",
   "metadata": {
    "id": "qVrTo-LhL9eS"
   },
   "source": [
    "## Python Tutorial"
   ]
  },
  {
   "cell_type": "markdown",
   "metadata": {
    "id": "9t1gKp9PL9eV"
   },
   "source": [
    "Python is a great general-purpose programming language on its own, but with the help of a few popular libraries (numpy, scipy, matplotlib) it becomes a powerful environment for scientific computing.\n",
    "\n",
    "This section will serve as a quick crash course both on the Python programming language and on the use of Python for scientific computing."
   ]
  },
  {
   "cell_type": "markdown",
   "metadata": {
    "id": "U1PvreR9L9eW"
   },
   "source": [
    "In this tutorial, we will cover:\n",
    "\n",
    "* Basic Python: Basic data types (Containers, Lists, Dictionaries, Sets, Tuples), Functions, Classes\n",
    "* Numpy: Arrays, Array indexing, Datatypes, Array math, Broadcasting\n",
    "* Matplotlib: Plotting, Subplots, Images\n",
    "* IPython: Creating notebooks, Typical workflows"
   ]
  },
  {
   "cell_type": "markdown",
   "metadata": {
    "id": "nxvEkGXPM3Xh"
   },
   "source": [
    "## A Brief Note on Python Versions\n",
    "\n",
    "As of Janurary 1, 2020, Python has [officially dropped support](https://www.python.org/doc/sunset-python-2/) for `python2`. **We'll be using Python 3.7 for this iteration of the course.**"
   ]
  },
  {
   "cell_type": "code",
   "execution_count": 5,
   "metadata": {
    "colab": {
     "base_uri": "https://localhost:8080/",
     "height": 35
    },
    "id": "1L4Am0QATgOc",
    "outputId": "c229f655-59da-4729-b73e-2b3f38030089"
   },
   "outputs": [
    {
     "data": {
      "text/plain": [
       "'3.9.7'"
      ]
     },
     "execution_count": 5,
     "metadata": {},
     "output_type": "execute_result"
    }
   ],
   "source": [
    "import platform \n",
    "platform.python_version()\n",
    "\n",
    "#### you can also use this command to find the python version\n",
    "#import sys\n",
    "#sys.version"
   ]
  },
  {
   "cell_type": "markdown",
   "metadata": {
    "id": "JAFKYgrpL9eY"
   },
   "source": [
    "## Basics of Python"
   ]
  },
  {
   "cell_type": "markdown",
   "metadata": {
    "id": "RbFS6tdgL9ea"
   },
   "source": [
    "Python is a high-level, dynamically typed multiparadigm programming language. Python code is often said to be almost like pseudocode, since it allows you to express very powerful ideas in very few lines of code while being very readable. As an example, here is an implementation of the classic quicksort algorithm in Python:"
   ]
  },
  {
   "cell_type": "code",
   "execution_count": 6,
   "metadata": {
    "id": "cYb0pjh1L9eb"
   },
   "outputs": [
    {
     "name": "stdout",
     "output_type": "stream",
     "text": [
      "[1, 1, 2, 3, 6, 8, 10]\n"
     ]
    }
   ],
   "source": [
    "def quicksort(L):\n",
    "    if len(L) <= 1:\n",
    "        return L\n",
    "    pivot = L[len(L) // 2] # get the middle value; the floor division // rounds the result down to the nearest whole number\n",
    "    left = [x for x in L if x < pivot]\n",
    "    middle = [x for x in L if x == pivot]\n",
    "    right = [x for x in L if x > pivot]\n",
    "    return quicksort(left) + middle + quicksort(right)\n",
    "\n",
    "print(quicksort([3,6,8,10,1,2,1])) "
   ]
  },
  {
   "cell_type": "markdown",
   "metadata": {
    "id": "IZitWOnhFCS3"
   },
   "source": [
    "You should pay attention to how a list, [3,6,8,10,1,2,1],  was sent in as an argument to the quicksort function.\\\n",
    "Notice how easy it is to access list elements with \"for x in L\".\\\n",
    "Notice how recursive function calls are used with return quicksort(left) + middle + quicksort(right)"
   ]
  },
  {
   "cell_type": "markdown",
   "metadata": {
    "id": "NwS_hu4xL9eo"
   },
   "source": [
    "### Basic data types"
   ]
  },
  {
   "cell_type": "markdown",
   "metadata": {
    "id": "DL5sMSZ9L9eq"
   },
   "source": [
    "#### Numbers"
   ]
  },
  {
   "cell_type": "markdown",
   "metadata": {
    "id": "MGS0XEWoL9er"
   },
   "source": [
    "Integers and floats work as you would expect from other languages:"
   ]
  },
  {
   "cell_type": "code",
   "execution_count": 7,
   "metadata": {
    "id": "KheDr_zDL9es"
   },
   "outputs": [
    {
     "name": "stdout",
     "output_type": "stream",
     "text": [
      "3 <class 'int'>\n"
     ]
    }
   ],
   "source": [
    "x = 3\n",
    "print(x, type(x))"
   ]
  },
  {
   "cell_type": "code",
   "execution_count": 8,
   "metadata": {
    "id": "sk_8DFcuL9ey"
   },
   "outputs": [
    {
     "name": "stdout",
     "output_type": "stream",
     "text": [
      "4\n",
      "2\n",
      "6\n",
      "9\n"
     ]
    }
   ],
   "source": [
    "print(x + 1)   # Addition\n",
    "print(x - 1)   # Subtraction\n",
    "print(x * 2)   # Multiplication\n",
    "print(x ** 2)  # Exponentiation"
   ]
  },
  {
   "cell_type": "code",
   "execution_count": 9,
   "metadata": {
    "id": "U4Jl8K0tL9e4"
   },
   "outputs": [
    {
     "name": "stdout",
     "output_type": "stream",
     "text": [
      "4\n",
      "8\n"
     ]
    }
   ],
   "source": [
    "x += 1\n",
    "print(x)\n",
    "x *= 2\n",
    "print(x)"
   ]
  },
  {
   "cell_type": "code",
   "execution_count": 10,
   "metadata": {
    "id": "w-nZ0Sg_L9e9"
   },
   "outputs": [
    {
     "name": "stdout",
     "output_type": "stream",
     "text": [
      "<class 'float'>\n",
      "2.5 3.5 5.0 6.25\n"
     ]
    }
   ],
   "source": [
    "y = 2.5\n",
    "print(type(y))\n",
    "print(y, y + 1, y * 2, y ** 2)"
   ]
  },
  {
   "cell_type": "markdown",
   "metadata": {
    "id": "r2A9ApyaL9fB"
   },
   "source": [
    "Note that unlike many languages, Python does not have unary increment (x++) or decrement (x--) operators.\n",
    "\n",
    "Python also has built-in types for long integers and complex numbers; you can find all of the details in the [documentation](https://docs.python.org/3.7/library/stdtypes.html#numeric-types-int-float-long-complex)."
   ]
  },
  {
   "cell_type": "markdown",
   "metadata": {
    "id": "EqRS7qhBL9fC"
   },
   "source": [
    "#### Booleans"
   ]
  },
  {
   "cell_type": "markdown",
   "metadata": {
    "id": "Nv_LIVOJL9fD"
   },
   "source": [
    "Python implements all of the usual operators for Boolean logic, but uses English words rather than symbols (`&&`, `||`, etc.):"
   ]
  },
  {
   "cell_type": "code",
   "execution_count": 11,
   "metadata": {
    "id": "RvoImwgGL9fE"
   },
   "outputs": [
    {
     "name": "stdout",
     "output_type": "stream",
     "text": [
      "<class 'bool'>\n"
     ]
    }
   ],
   "source": [
    "t, f = True, False\n",
    "print(type(t))"
   ]
  },
  {
   "cell_type": "markdown",
   "metadata": {
    "id": "YQgmQfOgL9fI"
   },
   "source": [
    "Now let's look at the operations:"
   ]
  },
  {
   "cell_type": "code",
   "execution_count": 12,
   "metadata": {
    "id": "6zYm7WzCL9fK"
   },
   "outputs": [
    {
     "name": "stdout",
     "output_type": "stream",
     "text": [
      "False\n",
      "True\n",
      "False\n",
      "True\n"
     ]
    }
   ],
   "source": [
    "print(t and f) # Logical AND;\n",
    "print(t or f)  # Logical OR;\n",
    "print(not t)   # Logical NOT;\n",
    "print(t != f)  # Logical XOR;"
   ]
  },
  {
   "cell_type": "markdown",
   "metadata": {
    "id": "UQnQWFEyL9fP"
   },
   "source": [
    "#### Strings"
   ]
  },
  {
   "cell_type": "code",
   "execution_count": 13,
   "metadata": {
    "id": "AijEDtPFL9fP"
   },
   "outputs": [
    {
     "name": "stdout",
     "output_type": "stream",
     "text": [
      "hello 5\n"
     ]
    }
   ],
   "source": [
    "hello = 'hello'   # String literals can use single quotes\n",
    "world = \"world\"   # or double quotes; it does not matter\n",
    "print(hello, len(hello))"
   ]
  },
  {
   "cell_type": "code",
   "execution_count": 14,
   "metadata": {
    "id": "saDeaA7hL9fT"
   },
   "outputs": [
    {
     "name": "stdout",
     "output_type": "stream",
     "text": [
      "hello world\n"
     ]
    }
   ],
   "source": [
    "hw = hello + ' ' + world  # String concatenation\n",
    "print(hw)"
   ]
  },
  {
   "cell_type": "code",
   "execution_count": 15,
   "metadata": {
    "id": "Nji1_UjYL9fY"
   },
   "outputs": [
    {
     "name": "stdout",
     "output_type": "stream",
     "text": [
      "hello world 12\n"
     ]
    }
   ],
   "source": [
    "hw12 = '{} {} {}'.format(hello, world, 12)  # string formatting with {} as placeholders\n",
    "print(hw12)"
   ]
  },
  {
   "cell_type": "markdown",
   "metadata": {
    "id": "TKyEGog2FCS6"
   },
   "source": [
    "Notive here that the number of values passed as parameters in format() method must be equal to the number of placeholders (i.e. {}) created in the string.\n",
    "This simplifies the priniting of numbers and string. "
   ]
  },
  {
   "cell_type": "markdown",
   "metadata": {
    "id": "bUpl35bIL9fc"
   },
   "source": [
    "String objects have a bunch of useful methods; for example:"
   ]
  },
  {
   "cell_type": "code",
   "execution_count": 16,
   "metadata": {
    "id": "VOxGatlsL9fd"
   },
   "outputs": [
    {
     "name": "stdout",
     "output_type": "stream",
     "text": [
      "Hello\n",
      "HELLO\n",
      "  hello\n",
      " hello \n",
      "he(ell)(ell)o\n",
      "world\n"
     ]
    }
   ],
   "source": [
    "s = \"hello\"\n",
    "print(s.capitalize())  # Capitalize a string\n",
    "print(s.upper())       # Convert a string to uppercase; prints \"HELLO\"\n",
    "print(s.rjust(7))      # Right-justify a string, padding with spaces\n",
    "print(s.center(7))     # Center a string, padding with spaces\n",
    "print(s.replace('l', '(ell)'))  # Replace all instances of one substring with another\n",
    "print('  world '.strip())  # Strip leading and trailing whitespace"
   ]
  },
  {
   "cell_type": "markdown",
   "metadata": {
    "id": "06cayXLtL9fi"
   },
   "source": [
    "You can find a list of all string methods in the [documentation](https://docs.python.org/3.7/library/stdtypes.html#string-methods)."
   ]
  },
  {
   "cell_type": "markdown",
   "metadata": {
    "id": "p-6hClFjL9fk"
   },
   "source": [
    "### Containers"
   ]
  },
  {
   "cell_type": "markdown",
   "metadata": {
    "id": "FD9H18eQL9fk"
   },
   "source": [
    "Python includes several built-in container types: lists, dictionaries, sets, and tuples."
   ]
  },
  {
   "cell_type": "markdown",
   "metadata": {
    "id": "UsIWOe0LL9fn"
   },
   "source": [
    "#### Lists"
   ]
  },
  {
   "cell_type": "markdown",
   "metadata": {
    "id": "wzxX7rgWL9fn"
   },
   "source": [
    "A list is the Python equivalent of an array, but is resizeable and can contain elements of different types:"
   ]
  },
  {
   "cell_type": "code",
   "execution_count": 17,
   "metadata": {
    "id": "hk3A8pPcL9fp"
   },
   "outputs": [
    {
     "name": "stdout",
     "output_type": "stream",
     "text": [
      "Entire list: [3, 1, 2] \n",
      "Element at index 2: 2\n",
      "1\n"
     ]
    }
   ],
   "source": [
    "xs = [3, 1, 2]   # Create a list\n",
    "print('Entire list: {} \\nElement at index 2: {}'.format(xs, xs[2]))\n",
    "print(xs[-2])     # Negative indices count from the end of the list; prints \"1\""
   ]
  },
  {
   "cell_type": "code",
   "execution_count": 18,
   "metadata": {
    "id": "YCjCy_0_L9ft"
   },
   "outputs": [
    {
     "name": "stdout",
     "output_type": "stream",
     "text": [
      "[3, 1, 'foo']\n"
     ]
    }
   ],
   "source": [
    "xs[2] = 'foo'    # Lists can contain elements of different types\n",
    "print(xs)"
   ]
  },
  {
   "cell_type": "code",
   "execution_count": 19,
   "metadata": {
    "id": "vJ0x5cF-L9fx"
   },
   "outputs": [
    {
     "name": "stdout",
     "output_type": "stream",
     "text": [
      "[3, 1, 'foo', 'bar']\n"
     ]
    }
   ],
   "source": [
    "xs.append('bar') # Add a new element to the end of the list\n",
    "print(xs)  "
   ]
  },
  {
   "cell_type": "code",
   "execution_count": 20,
   "metadata": {
    "id": "cxVCNRTNL9f1"
   },
   "outputs": [
    {
     "name": "stdout",
     "output_type": "stream",
     "text": [
      "bar [3, 1, 'foo']\n"
     ]
    }
   ],
   "source": [
    "x = xs.pop()     # Remove and return the last element of the list\n",
    "print(x, xs)"
   ]
  },
  {
   "cell_type": "markdown",
   "metadata": {
    "id": "ilyoyO34L9f4"
   },
   "source": [
    "As usual, you can find all the gory details about lists in the [documentation](https://docs.python.org/3.7/tutorial/datastructures.html#more-on-lists)."
   ]
  },
  {
   "cell_type": "markdown",
   "metadata": {
    "id": "ovahhxd_L9f5"
   },
   "source": [
    "#### Slicing"
   ]
  },
  {
   "cell_type": "markdown",
   "metadata": {
    "id": "YeSYKhv9L9f6"
   },
   "source": [
    "In addition to accessing list elements one at a time, Python provides concise syntax to access sublists; this is known as slicing:"
   ]
  },
  {
   "cell_type": "code",
   "execution_count": 21,
   "metadata": {
    "id": "ninq666bL9f6"
   },
   "outputs": [
    {
     "name": "stdout",
     "output_type": "stream",
     "text": [
      "1 [0, 1, 2, 3, 4]\n",
      "2 [2, 3]\n",
      "3 [2, 3, 4]\n",
      "4 [0, 1]\n",
      "5 [0, 1, 2, 3, 4]\n",
      "6 [0, 1, 2]\n",
      "7 [0, 1, 8, 9, 4]\n"
     ]
    }
   ],
   "source": [
    "nums = list(range(5))    # range is a built-in function that creates a list of integers\n",
    "print(1, nums)         # Prints \"[0, 1, 2, 3, 4]\"\n",
    "print(2, nums[2:4])    # Get a slice from index 2 to 4 (exclusive); prints \"[2, 3]\"\n",
    "print(3, nums[2:])     # Get a slice from index 2 to the end; prints \"[2, 3, 4]\"\n",
    "print(4, nums[:2])     # Get a slice from the start to index 2 (exclusive); prints \"[0, 1]\"\n",
    "print(5, nums[:])      # Get a slice of the whole list; prints [\"0, 1, 2, 3, 4]\"\n",
    "print(6, nums[:-2])    # Slice indices can be negative; \n",
    "nums[2:4] = [8, 9] # Assign a new sublist to a slice\n",
    "print(7, nums)         # Prints \"[0, 1, 8, 9, 4]\""
   ]
  },
  {
   "cell_type": "markdown",
   "metadata": {
    "id": "mLf9u9noFCS-"
   },
   "source": [
    "A negative number as an index in python returns the nth element from the right-hand side of the list (as opposed to the usual left-hand side). Notice how this can be used in slicing to indicate the element before the last in print(nums[:-2])"
   ]
  },
  {
   "cell_type": "markdown",
   "metadata": {
    "id": "UONpMhF4L9f_"
   },
   "source": [
    "#### Loops"
   ]
  },
  {
   "cell_type": "markdown",
   "metadata": {
    "id": "_DYz1j6QL9f_"
   },
   "source": [
    "You can loop over the elements of a list like this:"
   ]
  },
  {
   "cell_type": "code",
   "execution_count": 22,
   "metadata": {
    "id": "4cCOysfWL9gA"
   },
   "outputs": [
    {
     "name": "stdout",
     "output_type": "stream",
     "text": [
      "cat\n",
      "dog\n",
      "monkey\n"
     ]
    }
   ],
   "source": [
    "animals = ['cat', 'dog', 'monkey']\n",
    "for animal in animals:\n",
    "    print(animal)"
   ]
  },
  {
   "cell_type": "markdown",
   "metadata": {
    "id": "KxIaQs7pL9gE"
   },
   "source": [
    "If you want access to the index of each element within the body of a loop, use the built-in `enumerate` function:"
   ]
  },
  {
   "cell_type": "code",
   "execution_count": 23,
   "metadata": {
    "id": "JjGnDluWL9gF"
   },
   "outputs": [
    {
     "name": "stdout",
     "output_type": "stream",
     "text": [
      "#1: cat\n",
      "#2: dog\n",
      "#3: monkey\n"
     ]
    }
   ],
   "source": [
    "animals = ['cat', 'dog', 'monkey']\n",
    "for idx, animal in enumerate(animals):\n",
    "    print('#{}: {}'.format(idx + 1, animal))"
   ]
  },
  {
   "cell_type": "markdown",
   "metadata": {
    "id": "nUIexBaxFCS_"
   },
   "source": [
    "Try adding a few more animals to get a hang of how the above code works. \n",
    "Also try looping over a set of elements in a list. "
   ]
  },
  {
   "cell_type": "markdown",
   "metadata": {
    "id": "arrLCcMyL9gK"
   },
   "source": [
    "#### List comprehensions"
   ]
  },
  {
   "cell_type": "markdown",
   "metadata": {
    "id": "5Qn2jU_pL9gL"
   },
   "source": [
    "When programming, frequently we want to transform one type of data into another. As a simple example, consider the following code that computes square numbers:"
   ]
  },
  {
   "cell_type": "code",
   "execution_count": 24,
   "metadata": {
    "id": "IVNEwoMXL9gL"
   },
   "outputs": [
    {
     "name": "stdout",
     "output_type": "stream",
     "text": [
      "[0, 1, 4, 9, 16]\n"
     ]
    }
   ],
   "source": [
    "nums = [0, 1, 2, 3, 4]\n",
    "squares = []\n",
    "for x in nums:\n",
    "    squares.append(x ** 2)\n",
    "print(squares)"
   ]
  },
  {
   "cell_type": "markdown",
   "metadata": {
    "id": "7DmKVUFaL9gQ"
   },
   "source": [
    "You can make this code simpler using a list comprehension:"
   ]
  },
  {
   "cell_type": "code",
   "execution_count": 25,
   "metadata": {
    "id": "kZxsUfV6L9gR"
   },
   "outputs": [
    {
     "name": "stdout",
     "output_type": "stream",
     "text": [
      "[0, 1, 4, 9, 16]\n"
     ]
    }
   ],
   "source": [
    "nums = [0, 1, 2, 3, 4]\n",
    "squares = [x ** 2 for x in nums]\n",
    "print(squares)"
   ]
  },
  {
   "cell_type": "markdown",
   "metadata": {
    "id": "-D8ARK7tL9gV"
   },
   "source": [
    "List comprehensions can also contain conditions:"
   ]
  },
  {
   "cell_type": "code",
   "execution_count": 26,
   "metadata": {
    "id": "yUtgOyyYL9gV"
   },
   "outputs": [
    {
     "name": "stdout",
     "output_type": "stream",
     "text": [
      "[0, 4, 16]\n"
     ]
    }
   ],
   "source": [
    "nums = [0, 1, 2, 3, 4]\n",
    "even_squares = [x ** 2 for x in nums if x % 2 == 0]\n",
    "print(even_squares)"
   ]
  },
  {
   "cell_type": "markdown",
   "metadata": {
    "id": "H8xsUEFpL9gZ"
   },
   "source": [
    "#### Dictionaries"
   ]
  },
  {
   "cell_type": "markdown",
   "metadata": {
    "id": "kkjAGMAJL9ga"
   },
   "source": [
    "A dictionary stores (key, value) pairs, similar to a `Map` in Java or an object in Javascript. You can use it like this:"
   ]
  },
  {
   "cell_type": "code",
   "execution_count": 27,
   "metadata": {
    "id": "XBYI1MrYL9gb"
   },
   "outputs": [
    {
     "name": "stdout",
     "output_type": "stream",
     "text": [
      "cute\n",
      "True\n"
     ]
    }
   ],
   "source": [
    "d = {'cat': 'cute', 'dog': 'furry'}  # Create a new dictionary with some string data, note use of curly brackets\n",
    "print(d['cat'])       # Get an entry from a dictionary givem a key 'cat'; prints \"cute\"\n",
    "print('cat' in d)     # Check if a dictionary has a given key; prints \"True\""
   ]
  },
  {
   "cell_type": "code",
   "execution_count": 28,
   "metadata": {
    "id": "pS7e-G-HL9gf"
   },
   "outputs": [
    {
     "name": "stdout",
     "output_type": "stream",
     "text": [
      "wet\n"
     ]
    }
   ],
   "source": [
    "d['fish'] = 'wet'    # Set an entry in a dictionary\n",
    "print(d['fish'])      # Prints \"wet\""
   ]
  },
  {
   "cell_type": "code",
   "execution_count": 29,
   "metadata": {
    "id": "tFY065ItL9gi"
   },
   "outputs": [
    {
     "ename": "KeyError",
     "evalue": "'monkey'",
     "output_type": "error",
     "traceback": [
      "\u001b[1;31m---------------------------------------------------------------------------\u001b[0m",
      "\u001b[1;31mKeyError\u001b[0m                                  Traceback (most recent call last)",
      "\u001b[1;32m~\\AppData\\Local\\Temp/ipykernel_14720/2010986049.py\u001b[0m in \u001b[0;36m<module>\u001b[1;34m\u001b[0m\n\u001b[1;32m----> 1\u001b[1;33m \u001b[0mprint\u001b[0m\u001b[1;33m(\u001b[0m\u001b[0md\u001b[0m\u001b[1;33m[\u001b[0m\u001b[1;34m'monkey'\u001b[0m\u001b[1;33m]\u001b[0m\u001b[1;33m)\u001b[0m  \u001b[1;31m# KeyError: 'monkey' is not a key of d\u001b[0m\u001b[1;33m\u001b[0m\u001b[1;33m\u001b[0m\u001b[0m\n\u001b[0m",
      "\u001b[1;31mKeyError\u001b[0m: 'monkey'"
     ]
    }
   ],
   "source": [
    "print(d['monkey'])  # KeyError: 'monkey' is not a key of d"
   ]
  },
  {
   "cell_type": "code",
   "execution_count": 30,
   "metadata": {
    "id": "8TjbEWqML9gl"
   },
   "outputs": [
    {
     "name": "stdout",
     "output_type": "stream",
     "text": [
      "N/A\n",
      "wet\n"
     ]
    }
   ],
   "source": [
    "print(d.get('monkey', 'N/A'))  # Call an element that does not exist with a default; prints \"N/A\"\n",
    "print(d.get('fish', 'N/A'))    # Call an element that exists with a default; prints \"wet\""
   ]
  },
  {
   "cell_type": "code",
   "execution_count": 31,
   "metadata": {
    "id": "0EItdNBJL9go"
   },
   "outputs": [
    {
     "name": "stdout",
     "output_type": "stream",
     "text": [
      "N/A\n"
     ]
    }
   ],
   "source": [
    "del d['fish']        # Remove an element from a dictionary\n",
    "print(d.get('fish', 'N/A')) # \"fish\" is no longer a key; prints \"N/A\""
   ]
  },
  {
   "cell_type": "markdown",
   "metadata": {
    "id": "wqm4dRZNL9gr"
   },
   "source": [
    "You can find all you need to know about dictionaries in the [documentation](https://docs.python.org/2/library/stdtypes.html#dict)."
   ]
  },
  {
   "cell_type": "markdown",
   "metadata": {
    "id": "IxwEqHlGL9gr"
   },
   "source": [
    "It is easy to iterate over the keys in a dictionary:"
   ]
  },
  {
   "cell_type": "code",
   "execution_count": 32,
   "metadata": {
    "id": "rYfz7ZKNL9gs"
   },
   "outputs": [
    {
     "name": "stdout",
     "output_type": "stream",
     "text": [
      "A person has 2 legs\n",
      "A cat has 4 legs\n",
      "A spider has 8 legs\n"
     ]
    }
   ],
   "source": [
    "d = {'person': 2, 'cat': 4, 'spider': 8} # Create a new dictionary with some integer data\n",
    "for animal, legs in d.items(): # items() method returns a list of tuples containing the key:value pairs of the dictionary\n",
    "    print('A {} has {} legs'.format(animal, legs))"
   ]
  },
  {
   "cell_type": "markdown",
   "metadata": {
    "id": "17sxiOpzL9gz"
   },
   "source": [
    "Dictionary comprehensions: These are similar to list comprehensions, but allow you to easily construct dictionaries. For example:"
   ]
  },
  {
   "cell_type": "code",
   "execution_count": 33,
   "metadata": {
    "id": "8PB07imLL9gz"
   },
   "outputs": [
    {
     "name": "stdout",
     "output_type": "stream",
     "text": [
      "{0: 0, 2: 4, 4: 16}\n"
     ]
    }
   ],
   "source": [
    "nums = [0, 1, 2, 3, 4]\n",
    "even_num_to_square = {x: (x ** 2) for x in nums if x % 2 == 0}\n",
    "print(even_num_to_square)"
   ]
  },
  {
   "cell_type": "markdown",
   "metadata": {
    "id": "RNRfsg4YFCTB"
   },
   "source": [
    "Notice how the dictionary key:value pair is being created on the fly x: (x ** 2)"
   ]
  },
  {
   "cell_type": "markdown",
   "metadata": {
    "id": "V9MHfUdvL9g2"
   },
   "source": [
    "#### Sets"
   ]
  },
  {
   "cell_type": "markdown",
   "metadata": {
    "id": "Rpm4UtNpL9g2"
   },
   "source": [
    "A set is an unordered collection of distinct elements. As a simple example, consider the following:"
   ]
  },
  {
   "cell_type": "code",
   "execution_count": 34,
   "metadata": {
    "id": "MmyaniLsL9g2"
   },
   "outputs": [
    {
     "name": "stdout",
     "output_type": "stream",
     "text": [
      "True\n",
      "False\n"
     ]
    }
   ],
   "source": [
    "animals = {'cat', 'dog'}  # Note use of curly brackets for sets\n",
    "print('cat' in animals)   # Check if an element is in a set; prints \"True\"\n",
    "print('fish' in animals)  # prints \"False\"\n"
   ]
  },
  {
   "cell_type": "code",
   "execution_count": 35,
   "metadata": {
    "id": "ElJEyK86L9g6"
   },
   "outputs": [
    {
     "name": "stdout",
     "output_type": "stream",
     "text": [
      "True\n",
      "3\n"
     ]
    }
   ],
   "source": [
    "animals.add('fish')      # Add an element to a set\n",
    "print('fish' in animals)\n",
    "print(len(animals))       # Number of elements in a set;"
   ]
  },
  {
   "cell_type": "code",
   "execution_count": 36,
   "metadata": {
    "id": "5uGmrxdPL9g9"
   },
   "outputs": [
    {
     "name": "stdout",
     "output_type": "stream",
     "text": [
      "3\n",
      "2\n"
     ]
    }
   ],
   "source": [
    "animals.add('cat')       # Adding an element that is already in the set does nothing\n",
    "print(len(animals))       \n",
    "animals.remove('cat')    # Remove an element from a set\n",
    "print(len(animals))       "
   ]
  },
  {
   "cell_type": "markdown",
   "metadata": {
    "id": "zk2DbvLKL9g_"
   },
   "source": [
    "*Loops*: Iterating over a set has the same syntax as iterating over a list; however since sets are unordered, you cannot make assumptions about the order in which you visit the elements of the set:"
   ]
  },
  {
   "cell_type": "code",
   "execution_count": 37,
   "metadata": {
    "id": "K47KYNGyL9hA"
   },
   "outputs": [
    {
     "name": "stdout",
     "output_type": "stream",
     "text": [
      "#1: dog\n",
      "#2: cat\n",
      "#3: fish\n"
     ]
    }
   ],
   "source": [
    "animals = {'cat', 'dog', 'fish'}\n",
    "for idx, animal in enumerate(animals):\n",
    "    print('#{}: {}'.format(idx + 1, animal))"
   ]
  },
  {
   "cell_type": "markdown",
   "metadata": {
    "id": "puq4S8buL9hC"
   },
   "source": [
    "Set comprehensions: Like lists and dictionaries, we can easily construct sets using set comprehensions:"
   ]
  },
  {
   "cell_type": "code",
   "execution_count": 38,
   "metadata": {
    "id": "iw7k90k3L9hC"
   },
   "outputs": [
    {
     "name": "stdout",
     "output_type": "stream",
     "text": [
      "{0, 1, 2, 3, 4, 5}\n"
     ]
    }
   ],
   "source": [
    "from math import sqrt\n",
    "print({int(sqrt(x)) for x in range(30)})"
   ]
  },
  {
   "cell_type": "markdown",
   "metadata": {
    "id": "oJadpOb3FCTC"
   },
   "source": [
    "Note the use of import for function sqrt from the math library"
   ]
  },
  {
   "cell_type": "markdown",
   "metadata": {
    "id": "qPsHSKB1L9hF"
   },
   "source": [
    "#### Tuples"
   ]
  },
  {
   "cell_type": "markdown",
   "metadata": {
    "id": "kucc0LKVL9hG"
   },
   "source": [
    "A tuple is an (immutable) ordered list of values. A tuple is in many ways similar to a list; one of the most important differences is that tuples can be used as keys in dictionaries and as elements of sets, while lists cannot. Here is a trivial example:"
   ]
  },
  {
   "cell_type": "code",
   "execution_count": 39,
   "metadata": {
    "id": "9wHUyTKxL9hH"
   },
   "outputs": [
    {
     "name": "stdout",
     "output_type": "stream",
     "text": [
      "the dictionary {(0, 1): 0, (1, 2): 1, (2, 3): 2, (3, 4): 3, (4, 5): 4, (5, 6): 5, (6, 7): 6, (7, 8): 7, (8, 9): 8, (9, 10): 9}\n",
      "d[(1, 2)] => 1\n",
      "format(t) => (5, 6)\n",
      "type(t) => <class 'tuple'>\n",
      "d[t] => 5\n"
     ]
    }
   ],
   "source": [
    "d = {(x, x + 1): x for x in range(10)}  # Create a dictionary with tuple keys\n",
    "t = (5, 6)       # Create a tuple\n",
    "print('the dictionary {}'.format(d))\n",
    "print('d[(1, 2)] => {}'.format(d[(1, 2)]))\n",
    "\n",
    "print('format(t) => {}'.format(t)) # the tuple\n",
    "print('type(t) => {}'.format(type(t))) # return the dictionary value for the tuple key\n",
    "print('d[t] => {}'.format(d[t]))       \n"
   ]
  },
  {
   "cell_type": "code",
   "execution_count": 40,
   "metadata": {
    "id": "HoO8zYKzL9hJ"
   },
   "outputs": [
    {
     "ename": "TypeError",
     "evalue": "'tuple' object does not support item assignment",
     "output_type": "error",
     "traceback": [
      "\u001b[1;31m---------------------------------------------------------------------------\u001b[0m",
      "\u001b[1;31mTypeError\u001b[0m                                 Traceback (most recent call last)",
      "\u001b[1;32m~\\AppData\\Local\\Temp/ipykernel_14720/2915157383.py\u001b[0m in \u001b[0;36m<module>\u001b[1;34m\u001b[0m\n\u001b[1;32m----> 1\u001b[1;33m \u001b[0mt\u001b[0m\u001b[1;33m[\u001b[0m\u001b[1;36m0\u001b[0m\u001b[1;33m]\u001b[0m \u001b[1;33m=\u001b[0m \u001b[1;36m1\u001b[0m  \u001b[1;31m# should be immutable i.e. Once created, the value of these objects is permanent.\u001b[0m\u001b[1;33m\u001b[0m\u001b[1;33m\u001b[0m\u001b[0m\n\u001b[0m",
      "\u001b[1;31mTypeError\u001b[0m: 'tuple' object does not support item assignment"
     ]
    }
   ],
   "source": [
    "t[0] = 1  # should be immutable i.e. Once created, the value of these objects is permanent."
   ]
  },
  {
   "cell_type": "markdown",
   "metadata": {
    "id": "AXA4jrEOL9hM"
   },
   "source": [
    "### Functions"
   ]
  },
  {
   "cell_type": "markdown",
   "metadata": {
    "id": "WaRms-QfL9hN"
   },
   "source": [
    "Python functions are defined using the `def` keyword. For example:"
   ]
  },
  {
   "cell_type": "code",
   "execution_count": 41,
   "metadata": {
    "id": "kiMDUr58L9hN"
   },
   "outputs": [
    {
     "name": "stdout",
     "output_type": "stream",
     "text": [
      "negative\n",
      "zero\n",
      "positive\n"
     ]
    }
   ],
   "source": [
    "def sign(x):\n",
    "    if x > 0:\n",
    "        return 'positive'\n",
    "    elif x < 0:\n",
    "        return 'negative'\n",
    "    else:\n",
    "        return 'zero'\n",
    "\n",
    "for x in [-1, 0, 1]:\n",
    "    print(sign(x))"
   ]
  },
  {
   "cell_type": "markdown",
   "metadata": {
    "id": "U-QJFt8TL9hR"
   },
   "source": [
    "We will often define functions to take optional keyword arguments, like this:"
   ]
  },
  {
   "cell_type": "code",
   "execution_count": 42,
   "metadata": {
    "id": "PfsZ3DazL9hR"
   },
   "outputs": [
    {
     "name": "stdout",
     "output_type": "stream",
     "text": [
      "Hello, Bob!\n",
      "HELLO, FRED\n"
     ]
    }
   ],
   "source": [
    "def hello(name, loud=False):\n",
    "    if loud:\n",
    "        print('HELLO, {}'.format(name.upper()))\n",
    "    else:\n",
    "        print('Hello, {}!'.format(name))\n",
    "\n",
    "hello('Bob')\n",
    "hello('Fred', loud=True)"
   ]
  },
  {
   "cell_type": "markdown",
   "metadata": {
    "id": "ObA9PRtQL9hT"
   },
   "source": [
    "### Classes"
   ]
  },
  {
   "cell_type": "markdown",
   "metadata": {
    "id": "hAzL_lTkL9hU"
   },
   "source": [
    "The syntax for defining classes in Python is straightforward:"
   ]
  },
  {
   "cell_type": "code",
   "execution_count": 43,
   "metadata": {
    "id": "RWdbaGigL9hU"
   },
   "outputs": [
    {
     "name": "stdout",
     "output_type": "stream",
     "text": [
      "Hello, Fred!\n",
      "HELLO, FRED\n"
     ]
    }
   ],
   "source": [
    "class Greeter:\n",
    "\n",
    "    # Constructor\n",
    "    def __init__(self, name):\n",
    "        self.name = name  # Create an instance variable\n",
    "\n",
    "    # Instance method\n",
    "    def greet(self, loud=False):\n",
    "        if loud:\n",
    "          print('HELLO, {}'.format(self.name.upper()))\n",
    "        else:\n",
    "          print('Hello, {}!'.format(self.name))\n",
    "\n",
    "g = Greeter('Fred')  # Construct an instance of the Greeter class\n",
    "g.greet()            # Call an instance method; prints \"Hello, Fred\"\n",
    "g.greet(loud=True)   # Call an instance method; prints \"HELLO, FRED!\""
   ]
  },
  {
   "cell_type": "markdown",
   "metadata": {
    "id": "3cfrOV4dL9hW"
   },
   "source": [
    "## Numpy"
   ]
  },
  {
   "cell_type": "markdown",
   "metadata": {
    "id": "fY12nHhyL9hX"
   },
   "source": [
    "Numpy is the core library for scientific computing in Python. It provides a high-performance multidimensional array object, and tools for working with these arrays. "
   ]
  },
  {
   "cell_type": "markdown",
   "metadata": {
    "id": "lZMyAdqhL9hY"
   },
   "source": [
    "To use Numpy, we first need to import the `numpy` package:"
   ]
  },
  {
   "cell_type": "code",
   "execution_count": 44,
   "metadata": {
    "id": "58QdX8BLL9hZ"
   },
   "outputs": [],
   "source": [
    "import numpy as np "
   ]
  },
  {
   "cell_type": "markdown",
   "metadata": {
    "id": "1zablvqOFCTD"
   },
   "source": [
    "Notice how we can use an alias like, np, to refer to the a library, in this case the numpy library."
   ]
  },
  {
   "cell_type": "markdown",
   "metadata": {
    "id": "DDx6v1EdL9hb"
   },
   "source": [
    "### Arrays"
   ]
  },
  {
   "cell_type": "markdown",
   "metadata": {
    "id": "f-Zv3f7LL9hc"
   },
   "source": [
    "A numpy array is a grid of values, all of the same type, and is indexed by a tuple of nonnegative integers. The number of dimensions is the rank of the array; the shape of an array is a tuple of integers giving the size of the array along each dimension."
   ]
  },
  {
   "cell_type": "markdown",
   "metadata": {
    "id": "_eMTRnZRL9hc"
   },
   "source": [
    "We can initialize numpy arrays from nested Python lists, and access elements using square brackets:"
   ]
  },
  {
   "cell_type": "code",
   "execution_count": 45,
   "metadata": {
    "id": "-l3JrGxCL9hc"
   },
   "outputs": [
    {
     "name": "stdout",
     "output_type": "stream",
     "text": [
      "<class 'numpy.ndarray'> (3,) 1 2 3\n",
      "[5 2 3]\n"
     ]
    }
   ],
   "source": [
    "a = np.array([1, 2, 3])  # Create a rank 1 array\n",
    "print(type(a), a.shape, a[0], a[1], a[2])\n",
    "a[0] = 5                 # Change an element of the array\n",
    "print(a)                  "
   ]
  },
  {
   "cell_type": "markdown",
   "metadata": {
    "id": "gnbGdn8UFCTE"
   },
   "source": [
    "Note that the rank of an array is simply the number of axes (or dimensions) it has."
   ]
  },
  {
   "cell_type": "code",
   "execution_count": 46,
   "metadata": {
    "id": "ma6mk-kdL9hh"
   },
   "outputs": [
    {
     "name": "stdout",
     "output_type": "stream",
     "text": [
      "[[1 2 3]\n",
      " [4 5 6]]\n"
     ]
    }
   ],
   "source": [
    "b = np.array([[1,2,3],[4,5,6]])   # Create a rank 2 array i.e. 2D array which is a matrix\n",
    "print(b)"
   ]
  },
  {
   "cell_type": "code",
   "execution_count": 47,
   "metadata": {
    "id": "ymfSHAwtL9hj"
   },
   "outputs": [
    {
     "name": "stdout",
     "output_type": "stream",
     "text": [
      "(2, 3)\n",
      "1 2 4\n"
     ]
    }
   ],
   "source": [
    "print(b.shape)\n",
    "print(b[0, 0], b[0, 1], b[1, 0])"
   ]
  },
  {
   "cell_type": "markdown",
   "metadata": {
    "id": "F2qwdyvuL9hn"
   },
   "source": [
    "Numpy also provides many functions to create arrays:"
   ]
  },
  {
   "cell_type": "code",
   "execution_count": 48,
   "metadata": {
    "id": "mVTN_EBqL9hn"
   },
   "outputs": [
    {
     "name": "stdout",
     "output_type": "stream",
     "text": [
      "[[0. 0.]\n",
      " [0. 0.]]\n"
     ]
    }
   ],
   "source": [
    "a = np.zeros((2,2))  # Create an array of all zeros\n",
    "print(a)"
   ]
  },
  {
   "cell_type": "code",
   "execution_count": 49,
   "metadata": {
    "id": "skiKlNmlL9h5"
   },
   "outputs": [
    {
     "name": "stdout",
     "output_type": "stream",
     "text": [
      "[[1. 1.]]\n"
     ]
    }
   ],
   "source": [
    "b = np.ones((1,2))   # Create an array of all ones\n",
    "print(b)"
   ]
  },
  {
   "cell_type": "code",
   "execution_count": 50,
   "metadata": {
    "id": "HtFsr03bL9h7"
   },
   "outputs": [
    {
     "name": "stdout",
     "output_type": "stream",
     "text": [
      "[[8 8]\n",
      " [8 8]]\n"
     ]
    }
   ],
   "source": [
    "c = np.full((2,2), 8) # Create a constant array\n",
    "print(c)"
   ]
  },
  {
   "cell_type": "code",
   "execution_count": 51,
   "metadata": {
    "id": "-QcALHvkL9h9"
   },
   "outputs": [
    {
     "name": "stdout",
     "output_type": "stream",
     "text": [
      "[[1. 0. 0.]\n",
      " [0. 1. 0.]\n",
      " [0. 0. 1.]]\n"
     ]
    }
   ],
   "source": [
    "d = np.eye(3)        # Create a 2x2 identity matrix where the diagonal has '1' and the rest are zeros.\n",
    "print(d)"
   ]
  },
  {
   "cell_type": "markdown",
   "metadata": {
    "id": "acCaKAdLFCTF"
   },
   "source": [
    "#### Randomm initialisation of arrays"
   ]
  },
  {
   "cell_type": "code",
   "execution_count": 52,
   "metadata": {
    "id": "RCpaYg9qL9iA"
   },
   "outputs": [
    {
     "name": "stdout",
     "output_type": "stream",
     "text": [
      "[[0.84430077 0.69074672]\n",
      " [0.97862062 0.55133116]]\n"
     ]
    }
   ],
   "source": [
    "e = np.random.random((2,2)) # Create a rank 2 array filled with random values\n",
    "print(e)"
   ]
  },
  {
   "cell_type": "markdown",
   "metadata": {
    "id": "96YQUN-2FCTF"
   },
   "source": [
    "You can return a sample (or samples) from the “standard normal” distribution using randn"
   ]
  },
  {
   "cell_type": "code",
   "execution_count": 53,
   "metadata": {
    "id": "G5DVcQAqFCTF"
   },
   "outputs": [
    {
     "name": "stdout",
     "output_type": "stream",
     "text": [
      "[[-0.86877103  2.34019301]\n",
      " [ 1.46617544 -0.01418139]]\n"
     ]
    }
   ],
   "source": [
    "e = np.random.randn(2,2) # Create a rank 2 array filled with random values sampled from a normal distribution\n",
    "print(e)"
   ]
  },
  {
   "cell_type": "markdown",
   "metadata": {
    "id": "jI5qcSDfL9iC"
   },
   "source": [
    "### Array indexing"
   ]
  },
  {
   "cell_type": "markdown",
   "metadata": {
    "id": "M-E4MUeVL9iC"
   },
   "source": [
    "Numpy offers several ways to index into arrays."
   ]
  },
  {
   "cell_type": "markdown",
   "metadata": {
    "id": "QYv4JyIEL9iD"
   },
   "source": [
    "Slicing: Similar to Python lists, numpy arrays can be sliced. Since arrays may be multidimensional, you must specify a slice for each dimension of the array:"
   ]
  },
  {
   "cell_type": "code",
   "execution_count": 54,
   "metadata": {
    "id": "wLWA0udwL9iD"
   },
   "outputs": [
    {
     "name": "stdout",
     "output_type": "stream",
     "text": [
      "[[2 3]\n",
      " [6 7]]\n"
     ]
    }
   ],
   "source": [
    "import numpy as np\n",
    "\n",
    "# Create the following rank 2 array with shape (3, 4) i.e. a matrix with 3 rows and 4 columns\n",
    "# [[ 1  2  3  4]\n",
    "#  [ 5  6  7  8]\n",
    "#  [ 9 10 11 12]]\n",
    "a = np.array([[1,2,3,4], [5,6,7,8], [9,10,11,12]])\n",
    "\n",
    "# Use slicing to pull out the subarray consisting of the first 2 rows\n",
    "# and only columns 1 and 2; \n",
    "# output array with the following shape (2, 2) is b:\n",
    "# [[2 3]\n",
    "#  [6 7]]\n",
    "b = a[:2, 1:3]\n",
    "print(b)"
   ]
  },
  {
   "cell_type": "markdown",
   "metadata": {
    "id": "KahhtZKYL9iF"
   },
   "source": [
    "A slice of an array is a view into the same data, so modifying it will modify the original array."
   ]
  },
  {
   "cell_type": "code",
   "execution_count": 55,
   "metadata": {
    "id": "1kmtaFHuL9iG"
   },
   "outputs": [
    {
     "name": "stdout",
     "output_type": "stream",
     "text": [
      "2\n",
      "77\n"
     ]
    }
   ],
   "source": [
    "print(a[0, 1])\n",
    "b[0, 0] = 77    # b[0, 0] is the same piece of data as a[0, 1]\n",
    "print(a[0, 1]) "
   ]
  },
  {
   "cell_type": "markdown",
   "metadata": {
    "id": "_Zcf3zi-L9iI"
   },
   "source": [
    "You can also mix integer indexing with slice indexing. However, doing so will yield an array of lower rank than the original array."
   ]
  },
  {
   "cell_type": "code",
   "execution_count": 56,
   "metadata": {
    "id": "G6lfbPuxL9iJ"
   },
   "outputs": [
    {
     "name": "stdout",
     "output_type": "stream",
     "text": [
      "[[ 1  2  3  4]\n",
      " [ 5  6  7  8]\n",
      " [ 9 10 11 12]]\n",
      "Shape of a is: (3, 4) and rank of a is: 2\n"
     ]
    }
   ],
   "source": [
    "# Create the following rank 2 array with shape (3, 4)\n",
    "a = np.array([[1,2,3,4], [5,6,7,8], [9,10,11,12]])\n",
    "b = np.copy(a)\n",
    "print(a)\n",
    "print('Shape of a is: {} and rank of a is: {}'.format(a.shape, len(a.shape)))"
   ]
  },
  {
   "cell_type": "markdown",
   "metadata": {
    "id": "NCye3NXhL9iL"
   },
   "source": [
    "Two ways of accessing the data in the middle row of the array.\n",
    "Mixing integer indexing with slices yields an array of lower rank,\n",
    "while using only slices yields an array of the same rank as the\n",
    "original array:"
   ]
  },
  {
   "cell_type": "code",
   "execution_count": 57,
   "metadata": {
    "id": "EOiEMsmNL9iL"
   },
   "outputs": [
    {
     "name": "stdout",
     "output_type": "stream",
     "text": [
      "[5 6 7 8] (4,)\n",
      "[[5 6 7 8]] (1, 4)\n",
      "[[5 6 7 8]] (1, 4)\n"
     ]
    }
   ],
   "source": [
    "row_r1 = a[1, :]    # Rank 1 view of the second row of a i.e. 1D \n",
    "row_r2 = a[1:2, :]  # Rank 2 view of the second row of a i.e. 2D\n",
    "row_r3 = a[[1], :]  # Rank 2 view of the second row of a i.e. 2D\n",
    "print(row_r1, row_r1.shape)\n",
    "print(row_r2, row_r2.shape)\n",
    "print(row_r3, row_r3.shape)"
   ]
  },
  {
   "cell_type": "markdown",
   "metadata": {
    "id": "D6UjnoU7FCTH"
   },
   "source": [
    "Notice how slicing, 1:2, in, a[1:2, :], yields the same as, [1], used in, a[[1], :] "
   ]
  },
  {
   "cell_type": "code",
   "execution_count": 58,
   "metadata": {
    "id": "JXu73pfDL9iN"
   },
   "outputs": [
    {
     "name": "stdout",
     "output_type": "stream",
     "text": [
      "[ 2  6 10] (3,)\n",
      "\n",
      "[[ 2]\n",
      " [ 6]\n",
      " [10]] (3, 1)\n"
     ]
    }
   ],
   "source": [
    "# We can make the same distinction when accessing columns of an array:\n",
    "col_r1 = a[:, 1]\n",
    "col_r2 = a[:, 1:2]\n",
    "print(col_r1, col_r1.shape)\n",
    "print()\n",
    "print(col_r2, col_r2.shape)"
   ]
  },
  {
   "cell_type": "markdown",
   "metadata": {
    "id": "VP3916bOL9iP"
   },
   "source": [
    "Integer array indexing: When you index into numpy arrays using slicing, the resulting array view will always be a subarray of the original array. In contrast, integer array indexing allows you to construct arbitrary arrays using the data from another array. Here is an example:"
   ]
  },
  {
   "cell_type": "code",
   "execution_count": 59,
   "metadata": {
    "id": "TBnWonIDL9iP"
   },
   "outputs": [
    {
     "name": "stdout",
     "output_type": "stream",
     "text": [
      "array a: \n",
      " [[1 2]\n",
      " [3 4]\n",
      " [5 6]]\n",
      "integer array indexing : [1 4 5]\n",
      "equivalent to : [1 4 5]\n"
     ]
    }
   ],
   "source": [
    "a = np.array([[1,2], [3, 4], [5, 6]])\n",
    "print('array a: \\n {}'.format(a))\n",
    "\n",
    "# An example of integer array indexing.\n",
    "# The returned array will have shape (3,) \n",
    "# where you specify the row indices first and the the column indices \n",
    "print('integer array indexing : {}'.format(a[[0, 1, 2], [0, 1, 0]]))\n",
    "\n",
    "# The above example of integer array indexing is equivalent to this:\n",
    "print('equivalent to : {}'.format(np.array([a[0, 0], a[1, 1], a[2, 0]])))"
   ]
  },
  {
   "cell_type": "code",
   "execution_count": 60,
   "metadata": {
    "id": "n7vuati-L9iR"
   },
   "outputs": [
    {
     "name": "stdout",
     "output_type": "stream",
     "text": [
      "[2 2]\n",
      "[2 2]\n"
     ]
    }
   ],
   "source": [
    "# When using integer array indexing, you can reuse the same\n",
    "# element from the source array:\n",
    "print(a[[0, 0], [1, 1]])\n",
    "\n",
    "# Equivalent to the previous integer array indexing example\n",
    "print(np.array([a[0, 1], a[0, 1]]))"
   ]
  },
  {
   "cell_type": "markdown",
   "metadata": {
    "id": "kaipSLafL9iU"
   },
   "source": [
    "One useful trick with integer array indexing is selecting or mutating one element from each row of a matrix:"
   ]
  },
  {
   "cell_type": "code",
   "execution_count": 61,
   "metadata": {
    "id": "ehqsV7TXL9iU"
   },
   "outputs": [
    {
     "name": "stdout",
     "output_type": "stream",
     "text": [
      "[[ 1  2  3]\n",
      " [ 4  5  6]\n",
      " [ 7  8  9]\n",
      " [10 11 12]]\n"
     ]
    }
   ],
   "source": [
    "# Create a new array from which we will select elements\n",
    "a = np.array([[1,2,3], [4,5,6], [7,8,9], [10, 11, 12]])\n",
    "print(a)"
   ]
  },
  {
   "cell_type": "code",
   "execution_count": 62,
   "metadata": {
    "id": "pAPOoqy5L9iV"
   },
   "outputs": [
    {
     "name": "stdout",
     "output_type": "stream",
     "text": [
      "row indexing [0 1 2 3]\n",
      "column indexing [0 2 0 1]\n",
      "elements from the 2D array are [ 1  6  7 11]\n"
     ]
    }
   ],
   "source": [
    "# Create row and column arrays of indices\n",
    "rowi=np.arange(4) #specify each row indices\n",
    "colj = np.array([0, 2, 0, 1]) #specify the column indices\n",
    "\n",
    "print('row indexing {}'.format(rowi))\n",
    "print('column indexing {}'.format(colj))\n",
    "\n",
    "# Select one element from each row using the indices\n",
    "print('elements from the 2D array are {}'.format(a[rowi, colj]))  # Prints \"[ 1  6  7 11]\""
   ]
  },
  {
   "cell_type": "markdown",
   "metadata": {
    "id": "ZHLyYvcUFCTI"
   },
   "source": [
    "Notice how np.arange has been used to generate 4 integers from 0 to 3. You can read up on the arange function [here](http://wiki.scipy.org/NumPy_for_Matlab_Users)"
   ]
  },
  {
   "cell_type": "code",
   "execution_count": 63,
   "metadata": {
    "id": "6v1PdI1DL9ib"
   },
   "outputs": [
    {
     "name": "stdout",
     "output_type": "stream",
     "text": [
      "[[11  2  3]\n",
      " [ 4  5 16]\n",
      " [17  8  9]\n",
      " [10 21 12]]\n"
     ]
    }
   ],
   "source": [
    "# Mutate one element from each row of a using the indices in b\n",
    "a[rowi, colj] += 10\n",
    "print(a)"
   ]
  },
  {
   "cell_type": "markdown",
   "metadata": {
    "id": "kaE8dBGgL9id"
   },
   "source": [
    "Boolean array indexing: Boolean array indexing lets you pick out arbitrary elements of an array. Frequently this type of indexing is used to select the elements of an array that satisfy some condition. Here is an example:"
   ]
  },
  {
   "cell_type": "code",
   "execution_count": 64,
   "metadata": {
    "id": "32PusjtKL9id"
   },
   "outputs": [
    {
     "name": "stdout",
     "output_type": "stream",
     "text": [
      "[[False False]\n",
      " [ True  True]\n",
      " [ True  True]]\n"
     ]
    }
   ],
   "source": [
    "import numpy as np\n",
    "\n",
    "a = np.array([[1,2], [3, 4], [5, 6]])\n",
    "\n",
    "bool_idx = (a > 2)  # Find the elements of a that are bigger than 2;\n",
    "                    # this returns a numpy array of Booleans of the same\n",
    "                    # shape as a, where each slot of bool_idx tells\n",
    "                    # whether that element of a is > 2.\n",
    "\n",
    "print(bool_idx)"
   ]
  },
  {
   "cell_type": "code",
   "execution_count": 65,
   "metadata": {
    "id": "cb2IRMXaL9if"
   },
   "outputs": [
    {
     "name": "stdout",
     "output_type": "stream",
     "text": [
      "[3 4 5 6]\n",
      "[3 4 5 6]\n"
     ]
    }
   ],
   "source": [
    "# We use boolean array indexing to construct a rank 1 array\n",
    "# consisting of the elements of a corresponding to the True values\n",
    "# of bool_idx\n",
    "print(a[bool_idx])\n",
    "\n",
    "# We can do all of the above in a single concise statement:\n",
    "print(a[a > 2])"
   ]
  },
  {
   "cell_type": "markdown",
   "metadata": {
    "id": "CdofMonAL9ih"
   },
   "source": [
    "For brevity we have left out a lot of details about numpy array indexing; if you want to know more you should read the documentation."
   ]
  },
  {
   "cell_type": "markdown",
   "metadata": {
    "id": "jTctwqdQL9ih"
   },
   "source": [
    "### Datatypes"
   ]
  },
  {
   "cell_type": "markdown",
   "metadata": {
    "id": "kSZQ1WkIL9ih"
   },
   "source": [
    "Every numpy array is a grid of elements of the same type. Numpy provides a large set of numeric datatypes that you can use to construct arrays. Numpy tries to guess a datatype when you create an array, but functions that construct arrays usually also include an optional argument to explicitly specify the datatype. Here is an example:"
   ]
  },
  {
   "cell_type": "code",
   "execution_count": 66,
   "metadata": {
    "id": "4za4O0m5L9ih"
   },
   "outputs": [
    {
     "name": "stdout",
     "output_type": "stream",
     "text": [
      "int32 float64 int64\n"
     ]
    }
   ],
   "source": [
    "x = np.array([1, 2])  # Let numpy choose the datatype\n",
    "y = np.array([1.0, 2.0])  # Let numpy choose the datatype\n",
    "z = np.array([1, 2], dtype=np.int64)  # Force a particular datatype\n",
    "\n",
    "print(x.dtype, y.dtype, z.dtype)"
   ]
  },
  {
   "cell_type": "markdown",
   "metadata": {
    "id": "RLVIsZQpL9ik"
   },
   "source": [
    "You can read all about numpy datatypes in the [documentation](http://docs.scipy.org/doc/numpy/reference/arrays.dtypes.html)."
   ]
  },
  {
   "cell_type": "markdown",
   "metadata": {
    "id": "TuB-fdhIL9ik"
   },
   "source": [
    "### Array math"
   ]
  },
  {
   "cell_type": "markdown",
   "metadata": {
    "id": "18e8V8elL9ik"
   },
   "source": [
    "Basic mathematical functions operate elementwise on arrays, and are available both as operator overloads and as functions in the numpy module:"
   ]
  },
  {
   "cell_type": "code",
   "execution_count": 67,
   "metadata": {
    "id": "gHKvBrSKL9il"
   },
   "outputs": [
    {
     "name": "stdout",
     "output_type": "stream",
     "text": [
      "[[ 6.  8.]\n",
      " [10. 12.]]\n",
      "[[ 6.  8.]\n",
      " [10. 12.]]\n"
     ]
    }
   ],
   "source": [
    "x = np.array([[1,2],[3,4]], dtype=np.float64)\n",
    "y = np.array([[5,6],[7,8]], dtype=np.float64)\n",
    "\n",
    "# Elementwise sum; both produce the same array output\n",
    "print(x + y)\n",
    "print(np.add(x, y))"
   ]
  },
  {
   "cell_type": "code",
   "execution_count": 68,
   "metadata": {
    "id": "1fZtIAMxL9in"
   },
   "outputs": [
    {
     "name": "stdout",
     "output_type": "stream",
     "text": [
      "[[-4. -4.]\n",
      " [-4. -4.]]\n",
      "[[-4. -4.]\n",
      " [-4. -4.]]\n"
     ]
    }
   ],
   "source": [
    "# Elementwise difference; both produce the array\n",
    "print(x - y)\n",
    "print(np.subtract(x, y))"
   ]
  },
  {
   "cell_type": "code",
   "execution_count": 69,
   "metadata": {
    "id": "nil4AScML9io"
   },
   "outputs": [
    {
     "name": "stdout",
     "output_type": "stream",
     "text": [
      "[[ 5. 12.]\n",
      " [21. 32.]]\n",
      "[[ 5. 12.]\n",
      " [21. 32.]]\n"
     ]
    }
   ],
   "source": [
    "# Elementwise product; both produce the array\n",
    "print(x * y)\n",
    "print(np.multiply(x, y))"
   ]
  },
  {
   "cell_type": "code",
   "execution_count": 70,
   "metadata": {
    "id": "0JoA4lH6L9ip"
   },
   "outputs": [
    {
     "name": "stdout",
     "output_type": "stream",
     "text": [
      "[[0.2        0.33333333]\n",
      " [0.42857143 0.5       ]]\n",
      "[[0.2        0.33333333]\n",
      " [0.42857143 0.5       ]]\n"
     ]
    }
   ],
   "source": [
    "# Elementwise division; both produce the array\n",
    "# [[ 0.2         0.33333333]\n",
    "#  [ 0.42857143  0.5       ]]\n",
    "print(x / y)\n",
    "print(np.divide(x, y))"
   ]
  },
  {
   "cell_type": "code",
   "execution_count": 71,
   "metadata": {
    "id": "g0iZuA6bL9ir"
   },
   "outputs": [
    {
     "name": "stdout",
     "output_type": "stream",
     "text": [
      "[[1.         1.41421356]\n",
      " [1.73205081 2.        ]]\n"
     ]
    }
   ],
   "source": [
    "# Elementwise square root; produces the array\n",
    "# [[ 1.          1.41421356]\n",
    "#  [ 1.73205081  2.        ]]\n",
    "print(np.sqrt(x))"
   ]
  },
  {
   "cell_type": "markdown",
   "metadata": {
    "id": "AcjH18Z6FCTK"
   },
   "source": [
    "### Matrix Vector dot product\n"
   ]
  },
  {
   "cell_type": "markdown",
   "metadata": {
    "id": "a5d_uujuL9it"
   },
   "source": [
    "\n",
    "numpy.dot calculates the dot product of two arrays.\n",
    "\n",
    "We can use the dot function to compute inner products of two arrays or vectors, to multiply a vector by a matrix, and to multiply matrices. \n",
    "dot is available both as a function in the numpy module and as an instance method of array objects:"
   ]
  },
  {
   "cell_type": "markdown",
   "metadata": {
    "id": "omKltKN2FCTK"
   },
   "source": [
    "#### Dot product with two vectors"
   ]
  },
  {
   "cell_type": "code",
   "execution_count": 72,
   "metadata": {
    "id": "BfLDfpk8FCTK"
   },
   "outputs": [
    {
     "name": "stdout",
     "output_type": "stream",
     "text": [
      "v is a column vector \n",
      " [[ 9 10]] \n",
      " which has shape or dimensions (1, 2) \n",
      "\n",
      "w is a row vector \n",
      " [[11]\n",
      " [12]] \n",
      " which has shape or dimensions (2, 1)\n"
     ]
    }
   ],
   "source": [
    "v = np.array([[9, 10]]) # column vector\n",
    "w = np.array([[11, 12]]).T  # transpose to a row\n",
    "\n",
    "print('v is a column vector \\n {} \\n which has shape or dimensions {} \\n'.format(v, np.shape(v)))\n",
    "print('w is a row vector \\n {} \\n which has shape or dimensions {}'.format(w, np.shape(w)))"
   ]
  },
  {
   "cell_type": "code",
   "execution_count": 73,
   "metadata": {
    "id": "A_MTfEWVFCTL"
   },
   "outputs": [
    {
     "name": "stdout",
     "output_type": "stream",
     "text": [
      "inner product :  [[219]]\n",
      "inner product :  [[219]]\n"
     ]
    }
   ],
   "source": [
    "# Inner product of v.w is the same as computing ((9*11) + (10*12)) = 99+120 = 219\n",
    "# We can use either of the commands to produce an Inner product of vectors\n",
    "print('inner product : ', v.dot(w)) \n",
    "print('inner product : ', np.dot(v, w)) # same as the command above"
   ]
  },
  {
   "cell_type": "markdown",
   "metadata": {
    "id": "k31unItkFCTL"
   },
   "source": [
    "This is how the inner vector dot product is computed:\n",
    "![dot1.png](data:image/png;base64,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)"
   ]
  },
  {
   "cell_type": "markdown",
   "metadata": {
    "id": "B1ecbwP-JaKX"
   },
   "source": []
  },
  {
   "cell_type": "code",
   "execution_count": 74,
   "metadata": {
    "id": "L5IaAsvqFCTL"
   },
   "outputs": [
    {
     "data": {
      "text/plain": [
       "array([[ 99, 110],\n",
       "       [108, 120]])"
      ]
     },
     "execution_count": 74,
     "metadata": {},
     "output_type": "execute_result"
    }
   ],
   "source": [
    "# Outer product of v.w is the same as computing \n",
    "# 11*9 , 11*10\n",
    "# 12*9, 12*10\n",
    "w.dot(v) # outer product of 2 vectors"
   ]
  },
  {
   "cell_type": "markdown",
   "metadata": {
    "id": "vmxPbrHASVeA"
   },
   "source": [
    "You can also use the `@` operator which is equivalent to numpy's `dot` operator."
   ]
  },
  {
   "cell_type": "markdown",
   "metadata": {
    "id": "kEcgsIVEFCTL"
   },
   "source": [
    "This is how the outer vector dot product is computed:\n",
    "\n",
    "\n",
    "\n",
    "![dot2.png](data:image/png;base64,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)"
   ]
  },
  {
   "cell_type": "code",
   "execution_count": 75,
   "metadata": {
    "id": "vyrWA-mXSdtt"
   },
   "outputs": [
    {
     "name": "stdout",
     "output_type": "stream",
     "text": [
      "inner product : \n",
      " [[219]]\n",
      "outer product : \n",
      " [[ 99 110]\n",
      " [108 120]]\n"
     ]
    }
   ],
   "source": [
    "print('inner product : \\n', v @ w) # @ provides similar output to dot, its actually np.matmul\n",
    "print('outer product : \\n', w @ v)"
   ]
  },
  {
   "cell_type": "markdown",
   "metadata": {
    "id": "TmfX6nanFCTL"
   },
   "source": [
    "#### Dot product between a vector and a matrix"
   ]
  },
  {
   "cell_type": "code",
   "execution_count": 76,
   "metadata": {
    "id": "zvUODeTxL9iw"
   },
   "outputs": [
    {
     "name": "stdout",
     "output_type": "stream",
     "text": [
      "[[39. 58.]]\n",
      "[[39. 58.]]\n",
      "[[39. 58.]]\n",
      "[[39. 58.]]\n"
     ]
    }
   ],
   "source": [
    "# v is a column vector defined previously [9,10] and\n",
    "# x is a matrix defined previously [[1,2],[3,4]] \n",
    "# Matrix . vector product of v . x is the same as computing ((9*1)+(10*3)), ((9*2)+(10*4)) = [39,58]\n",
    "# Matrix . vector product; both produce the rank 1 array [29 67]\n",
    "print(v.dot(x)) \n",
    "print(np.dot(v, x))\n",
    "print(v @ x)\n",
    "print(np.matmul(v,x))"
   ]
  },
  {
   "cell_type": "markdown",
   "metadata": {
    "id": "B7lneSd3FCTL"
   },
   "source": [
    "This is how the matrix vector dot product is computed:\n",
    "![dot3.png](data:image/png;base64,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)"
   ]
  },
  {
   "cell_type": "code",
   "execution_count": 77,
   "metadata": {
    "id": "3V_3NzNEL9iy"
   },
   "outputs": [
    {
     "name": "stdout",
     "output_type": "stream",
     "text": [
      "[[19. 22.]\n",
      " [43. 50.]]\n",
      "[[19. 22.]\n",
      " [43. 50.]]\n",
      "[[19. 22.]\n",
      " [43. 50.]]\n"
     ]
    }
   ],
   "source": [
    "# Matrix / matrix product; both produce the rank 2 array\n",
    "# x is a matrix defined previously [[1,2],[3,4]] and y is also a matrix defined before [[5,6],[7,8]] \n",
    "# x . y is the same as computing \n",
    "# [(1*5 + 2*7), (1*6 + 2*8)]\n",
    "# [(3*5 + 4*7), (3*6 + 4*8)]\n",
    "# which gives you a 2 by 2 matrix:\n",
    "# [[19 22]\n",
    "#  [43 50]]\n",
    "print(x.dot(y))\n",
    "print(np.dot(x, y))\n",
    "print(x @ y)"
   ]
  },
  {
   "cell_type": "markdown",
   "metadata": {
    "id": "cGdm7HeKFCTM"
   },
   "source": [
    "This is how the matrix vector dot product is computed:\n",
    "\n",
    "![dot4.png](data:image/png;base64,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)"
   ]
  },
  {
   "cell_type": "markdown",
   "metadata": {
    "id": "FbE-1If_L9i0"
   },
   "source": [
    "Numpy provides many useful functions for performing computations on arrays; one of the most useful is `sum`:"
   ]
  },
  {
   "cell_type": "code",
   "execution_count": 78,
   "metadata": {
    "id": "DZUdZvPrL9i0"
   },
   "outputs": [
    {
     "name": "stdout",
     "output_type": "stream",
     "text": [
      "np.sum(x) => 10\n",
      "np.sum(x, axis=0) => [4 6]\n",
      "np.sum(x, axis=1) => [3 7]\n"
     ]
    }
   ],
   "source": [
    "x = np.array([[1,2],[3,4]])\n",
    "\n",
    "print('np.sum(x) => {}'.format(np.sum(x)))  # Compute sum of all elements; prints \"10\"\n",
    "print('np.sum(x, axis=0) => {}'.format(np.sum(x, axis=0)))  # Compute sum of each column; prints \"[4 6]\"; note how axis=0 specifies column-wise summing\n",
    "print('np.sum(x, axis=1) => {}'.format(np.sum(x, axis=1)))  # Compute sum of each row; prints \"[3 7]\""
   ]
  },
  {
   "cell_type": "markdown",
   "metadata": {
    "id": "ahdVW4iUL9i3"
   },
   "source": [
    "You can find the full list of mathematical functions provided by numpy in the [documentation](http://docs.scipy.org/doc/numpy/reference/routines.math.html)."
   ]
  },
  {
   "cell_type": "markdown",
   "metadata": {
    "id": "ccHp8G7UFCTM"
   },
   "source": [
    "### Matrix Transpose\n",
    "\n",
    "Apart from computing mathematical functions using arrays, we frequently need to reshape or otherwise manipulate data in arrays. The simplest example of this type of operation is transposing a matrix; to transpose a matrix, simply use the T attribute of an array object:"
   ]
  },
  {
   "cell_type": "code",
   "execution_count": 79,
   "metadata": {
    "id": "63Yl1f3oL9i3"
   },
   "outputs": [
    {
     "name": "stdout",
     "output_type": "stream",
     "text": [
      "[[1 2]\n",
      " [3 4]]\n",
      "transpose\n",
      " [[1 3]\n",
      " [2 4]]\n"
     ]
    }
   ],
   "source": [
    "print(x)\n",
    "print(\"transpose\\n\", x.T)"
   ]
  },
  {
   "cell_type": "code",
   "execution_count": 80,
   "metadata": {
    "id": "mkk03eNIL9i4"
   },
   "outputs": [
    {
     "name": "stdout",
     "output_type": "stream",
     "text": [
      "[[1 2 3]]\n",
      "transpose\n",
      " [[1]\n",
      " [2]\n",
      " [3]]\n"
     ]
    }
   ],
   "source": [
    "v = np.array([[1,2,3]])\n",
    "print(v )\n",
    "print(\"transpose\\n\", v.T)"
   ]
  },
  {
   "cell_type": "markdown",
   "metadata": {
    "id": "REfLrUTcL9i7"
   },
   "source": [
    "### Broadcasting"
   ]
  },
  {
   "cell_type": "markdown",
   "metadata": {
    "id": "EygGAMWqL9i7"
   },
   "source": [
    "Broadcasting is a powerful mechanism that allows numpy to work with arrays of different shapes when performing arithmetic operations. Frequently we have a smaller array and a larger array, and we want to use the smaller array multiple times to perform some operation on the larger array.\n",
    "\n",
    "For example, suppose that we want to add a constant vector to each row of a matrix. We could do it like this:"
   ]
  },
  {
   "cell_type": "code",
   "execution_count": 81,
   "metadata": {
    "id": "WEEvkV1ZL9i7"
   },
   "outputs": [
    {
     "name": "stdout",
     "output_type": "stream",
     "text": [
      "[[ 2  2  4]\n",
      " [ 5  5  7]\n",
      " [ 8  8 10]\n",
      " [11 11 13]]\n"
     ]
    }
   ],
   "source": [
    "# We will add the vector v to each row of the matrix x,\n",
    "# storing the result in the matrix y\n",
    "x = np.array([[1,2,3], [4,5,6], [7,8,9], [10, 11, 12]])\n",
    "v = np.array([1, 0, 1])\n",
    "y = np.empty_like(x)   # Create an empty matrix with the same shape as x\n",
    "\n",
    "# Add the vector v to each row of the matrix x with an explicit loop\n",
    "for i in range(4):\n",
    "    y[i, :] = x[i, :] + v # note the splicing with : will select all elements in the row of i\n",
    "\n",
    "print(y)"
   ]
  },
  {
   "cell_type": "markdown",
   "metadata": {
    "id": "2OlXXupEL9i-"
   },
   "source": [
    "This works; however when the matrix `x` is very large, computing an explicit loop in Python could be slow. Note that adding the vector v to each row of the matrix `x` is equivalent to forming a matrix `vv` by stacking multiple copies of `v` vertically, then performing elementwise summation of `x` and `vv`. We could implement this approach like this:"
   ]
  },
  {
   "cell_type": "code",
   "execution_count": 82,
   "metadata": {
    "id": "vS7UwAQQL9i-"
   },
   "outputs": [
    {
     "name": "stdout",
     "output_type": "stream",
     "text": [
      "[[1 0 1]\n",
      " [1 0 1]\n",
      " [1 0 1]\n",
      " [1 0 1]]\n"
     ]
    }
   ],
   "source": [
    "vv = np.tile(v, (4, 1))  # Stack 4 copies of v on top of each other\n",
    "print(vv)                # Prints \"[[1 0 1]\n",
    "                         #          [1 0 1]\n",
    "                         #          [1 0 1]\n",
    "                         #          [1 0 1]]\""
   ]
  },
  {
   "cell_type": "code",
   "execution_count": 83,
   "metadata": {
    "id": "N0hJphSIL9jA"
   },
   "outputs": [
    {
     "name": "stdout",
     "output_type": "stream",
     "text": [
      "[[ 2  2  4]\n",
      " [ 5  5  7]\n",
      " [ 8  8 10]\n",
      " [11 11 13]]\n"
     ]
    }
   ],
   "source": [
    "y = x + vv  # Add x and vv elementwise\n",
    "print(y)"
   ]
  },
  {
   "cell_type": "markdown",
   "metadata": {
    "id": "zHos6RJnL9jB"
   },
   "source": [
    "Numpy broadcasting allows us to perform this computation without actually creating multiple copies of v. Consider this version, using broadcasting:"
   ]
  },
  {
   "cell_type": "code",
   "execution_count": 84,
   "metadata": {
    "id": "vnYFb-gYL9jC"
   },
   "outputs": [
    {
     "name": "stdout",
     "output_type": "stream",
     "text": [
      "v.shape => (3,)\n",
      "x.shape => (4, 3)\n",
      "y.shape => (4, 3)\n",
      "[[ 2  2  4]\n",
      " [ 5  5  7]\n",
      " [ 8  8 10]\n",
      " [11 11 13]]\n"
     ]
    }
   ],
   "source": [
    "import numpy as np\n",
    "\n",
    "# We will add the vector v to each row of the matrix x,\n",
    "# storing the result in the matrix y\n",
    "x = np.array([[1,2,3], [4,5,6], [7,8,9], [10, 11, 12]])\n",
    "v = np.array([1, 0, 1])\n",
    "y = x + v  # Add v to each row of x using broadcasting\n",
    "print('v.shape => {}'.format(v.shape))\n",
    "print('x.shape => {}'.format(x.shape))\n",
    "print('y.shape => {}'.format(y.shape))\n",
    "print(y)"
   ]
  },
  {
   "cell_type": "markdown",
   "metadata": {
    "id": "08YyIURKL9jH"
   },
   "source": [
    "The line `y = x + v` works even though `x` has shape `(4, 3)` and `v` has shape `(3,)` due to broadcasting; this line works as if v actually had shape `(4, 3)`, where each row was a copy of `v`, and the sum was performed elementwise.\n",
    "\n",
    "Broadcasting two arrays together follows these rules:\n",
    "\n",
    "1. If the arrays do not have the same rank, prepend the shape of the lower rank array with 1s until both shapes have the same length.\n",
    "2. The two arrays are said to be compatible in a dimension if they have the same size in the dimension, or if one of the arrays has size 1 in that dimension.\n",
    "3. The arrays can be broadcast together if they are compatible in all dimensions.\n",
    "4. After broadcasting, each array behaves as if it had shape equal to the elementwise maximum of shapes of the two input arrays.\n",
    "5. In any dimension where one array had size 1 and the other array had size greater than 1, the first array behaves as if it were copied along that dimension\n",
    "\n",
    "If this explanation does not make sense, try reading the explanation from the [documentation](http://docs.scipy.org/doc/numpy/user/basics.broadcasting.html) or this [explanation](http://wiki.scipy.org/EricsBroadcastingDoc).\n",
    "\n",
    "Functions that support broadcasting are known as universal functions. You can find the list of all universal functions in the [documentation](http://docs.scipy.org/doc/numpy/reference/ufuncs.html#available-ufuncs).\n",
    "\n",
    "Here are some applications of broadcasting:"
   ]
  },
  {
   "cell_type": "code",
   "execution_count": 85,
   "metadata": {
    "id": "EmQnwoM9L9jH"
   },
   "outputs": [
    {
     "name": "stdout",
     "output_type": "stream",
     "text": [
      "[[ 4  5]\n",
      " [ 8 10]\n",
      " [12 15]]\n"
     ]
    }
   ],
   "source": [
    "# Compute outer product of vectors\n",
    "v = np.array([1,2,3])  # v has shape (3,)\n",
    "w = np.array([4,5])    # w has shape (2,)\n",
    "# To compute an outer product, we first reshape v to be a column\n",
    "# vector of shape (3, 1); we can then broadcast it against w to yield\n",
    "# an output of shape (3, 2), which is the outer product of v and w:\n",
    "\n",
    "print(np.reshape(v, (3, 1)) * w)"
   ]
  },
  {
   "cell_type": "code",
   "execution_count": 86,
   "metadata": {
    "id": "PgotmpcnL9jK"
   },
   "outputs": [
    {
     "name": "stdout",
     "output_type": "stream",
     "text": [
      "[[2 4 6]\n",
      " [5 7 9]]\n"
     ]
    }
   ],
   "source": [
    "# Add a vector to each row of a matrix\n",
    "x = np.array([[1,2,3], [4,5,6]])\n",
    "# x has shape (2, 3) and v has shape (3,) so they broadcast to (2, 3),\n",
    "# giving the following matrix:\n",
    "\n",
    "print(x + v)"
   ]
  },
  {
   "cell_type": "code",
   "execution_count": 87,
   "metadata": {
    "id": "T5hKS1QaL9jK"
   },
   "outputs": [
    {
     "name": "stdout",
     "output_type": "stream",
     "text": [
      "[[ 5  6  7]\n",
      " [ 9 10 11]]\n"
     ]
    }
   ],
   "source": [
    "# Add a vector to each column of a matrix\n",
    "# x has shape (2, 3) and w has shape (2,).\n",
    "# If we transpose x then it has shape (3, 2) and can be broadcast\n",
    "# against w to yield a result of shape (3, 2); transposing this result\n",
    "# yields the final result of shape (2, 3) which is the matrix x with\n",
    "# the vector w added to each column. Gives the following matrix:\n",
    "\n",
    "print((x.T + w).T)"
   ]
  },
  {
   "cell_type": "code",
   "execution_count": 88,
   "metadata": {
    "id": "JDUrZUl6L9jN"
   },
   "outputs": [
    {
     "name": "stdout",
     "output_type": "stream",
     "text": [
      "[[ 5  6  7]\n",
      " [ 9 10 11]]\n"
     ]
    }
   ],
   "source": [
    "# Another solution is to reshape w to be a row vector of shape (2, 1);\n",
    "# we can then broadcast it directly against x to produce the same\n",
    "# output.\n",
    "print(x + np.reshape(w, (2, 1)))"
   ]
  },
  {
   "cell_type": "code",
   "execution_count": 89,
   "metadata": {
    "id": "VzrEo4KGL9jP"
   },
   "outputs": [
    {
     "name": "stdout",
     "output_type": "stream",
     "text": [
      "[[ 2  4  6]\n",
      " [ 8 10 12]]\n"
     ]
    }
   ],
   "source": [
    "# Multiply a matrix by a constant:\n",
    "# x has shape (2, 3). Numpy treats scalars as arrays of shape ();\n",
    "# these can be broadcast together to shape (2, 3), producing the\n",
    "# following array:\n",
    "print(x * 2)"
   ]
  },
  {
   "cell_type": "markdown",
   "metadata": {
    "id": "89e2FXxFL9jQ"
   },
   "source": [
    "Broadcasting typically makes your code more concise and faster, so you should strive to use it where possible."
   ]
  },
  {
   "cell_type": "markdown",
   "metadata": {
    "id": "iF3ZtwVNL9jQ"
   },
   "source": [
    "This brief overview has touched on many of the important things that you need to know about numpy, but is far from complete. Check out the [numpy reference](http://docs.scipy.org/doc/numpy/reference/) to find out much more about numpy."
   ]
  },
  {
   "cell_type": "markdown",
   "metadata": {
    "id": "tEINf4bEL9jR"
   },
   "source": [
    "## Matplotlib"
   ]
  },
  {
   "cell_type": "markdown",
   "metadata": {
    "id": "0hgVWLaXL9jR"
   },
   "source": [
    "Matplotlib is a plotting library. In this section give a brief introduction to the `matplotlib.pyplot` module, which provides a plotting system similar to that of MATLAB."
   ]
  },
  {
   "cell_type": "code",
   "execution_count": 94,
   "metadata": {
    "id": "cmh_7c6KL9jR"
   },
   "outputs": [],
   "source": [
    "import matplotlib.pyplot as plt"
   ]
  },
  {
   "cell_type": "markdown",
   "metadata": {
    "id": "jOsaA5hGL9jS"
   },
   "source": [
    "By running this special iPython command, we will be displaying plots inline:"
   ]
  },
  {
   "cell_type": "code",
   "execution_count": 95,
   "metadata": {
    "id": "ijpsmwGnL9jT"
   },
   "outputs": [],
   "source": [
    "%matplotlib inline"
   ]
  },
  {
   "cell_type": "markdown",
   "metadata": {
    "id": "U5Z_oMoLL9jV"
   },
   "source": [
    "### Plotting"
   ]
  },
  {
   "cell_type": "markdown",
   "metadata": {
    "id": "6QyFJ7dhL9jV"
   },
   "source": [
    "The most important function in `matplotlib` is plot, which allows you to plot 2D data. Here is a simple example:"
   ]
  },
  {
   "cell_type": "code",
   "execution_count": 96,
   "metadata": {
    "id": "pua52BGeL9jW"
   },
   "outputs": [
    {
     "name": "stdout",
     "output_type": "stream",
     "text": [
      "[0.  0.1 0.2 0.3 0.4 0.5 0.6 0.7 0.8 0.9 1.  1.1 1.2 1.3 1.4 1.5 1.6 1.7\n",
      " 1.8 1.9 2.  2.1 2.2 2.3 2.4 2.5 2.6 2.7 2.8 2.9 3.  3.1 3.2 3.3 3.4 3.5\n",
      " 3.6 3.7 3.8 3.9 4.  4.1 4.2 4.3 4.4 4.5 4.6 4.7 4.8 4.9 5.  5.1 5.2 5.3\n",
      " 5.4 5.5 5.6 5.7 5.8 5.9 6.  6.1 6.2 6.3 6.4 6.5 6.6 6.7 6.8 6.9 7.  7.1\n",
      " 7.2 7.3 7.4 7.5 7.6 7.7 7.8 7.9 8.  8.1 8.2 8.3 8.4 8.5 8.6 8.7 8.8 8.9\n",
      " 9.  9.1 9.2 9.3 9.4]\n",
      "95\n"
     ]
    },
    {
     "data": {
      "text/plain": [
       "[<matplotlib.lines.Line2D at 0x227b8ebc1c0>]"
      ]
     },
     "execution_count": 96,
     "metadata": {},
     "output_type": "execute_result"
    },
    {
     "data": {
      "image/png": "[encoded data removed]",
      "text/plain": [
       "<Figure size 432x288 with 1 Axes>"
      ]
     },
     "metadata": {
      "needs_background": "light"
     },
     "output_type": "display_data"
    }
   ],
   "source": [
    "# Compute the x and y coordinates for points on a sine curve\n",
    "x = np.arange(0, 3 * np.pi, 0.1) # start at 0 and inc 0.1 each time until its not more than 3*pi\n",
    "y = np.sin(x) # get the sin value for each of the x values\n",
    "print(x)\n",
    "print(len(y))\n",
    "# Plot the points using matplotlib\n",
    "plt.plot(x, y)"
   ]
  },
  {
   "cell_type": "markdown",
   "metadata": {
    "id": "9W2VAcLiL9jX"
   },
   "source": [
    "With just a little bit of extra work we can easily plot multiple lines at once, and add a title, legend, and axis labels:"
   ]
  },
  {
   "cell_type": "code",
   "execution_count": 97,
   "metadata": {
    "id": "TfCQHJ5AL9jY"
   },
   "outputs": [
    {
     "data": {
      "text/plain": [
       "<matplotlib.legend.Legend at 0x227b8033df0>"
      ]
     },
     "execution_count": 97,
     "metadata": {},
     "output_type": "execute_result"
    },
    {
     "data": {
      "image/png": "[encoded data removed]",
      "text/plain": [
       "<Figure size 432x288 with 1 Axes>"
      ]
     },
     "metadata": {
      "needs_background": "light"
     },
     "output_type": "display_data"
    }
   ],
   "source": [
    "y_sin = np.sin(x)\n",
    "y_cos = np.cos(x)\n",
    "\n",
    "# Plot the points using matplotlib\n",
    "plt.plot(x, y_sin)\n",
    "plt.plot(x, y_cos)\n",
    "plt.xlabel('x axis label')\n",
    "plt.ylabel('y axis label')\n",
    "plt.title('Sine and Cosine')\n",
    "plt.legend(['Sine', 'Cosine'])"
   ]
  },
  {
   "cell_type": "markdown",
   "metadata": {
    "id": "R5IeAY03L9ja"
   },
   "source": [
    "### Subplots "
   ]
  },
  {
   "cell_type": "markdown",
   "metadata": {
    "id": "CfUzwJg0L9ja"
   },
   "source": [
    "You can plot different things in the same figure using the subplot function. Here is an example:"
   ]
  },
  {
   "cell_type": "code",
   "execution_count": 98,
   "metadata": {
    "id": "dM23yGH9L9ja"
   },
   "outputs": [
    {
     "data": {
      "image/png": "[encoded data removed]",
      "text/plain": [
       "<Figure size 432x288 with 2 Axes>"
      ]
     },
     "metadata": {
      "needs_background": "light"
     },
     "output_type": "display_data"
    }
   ],
   "source": [
    "# Compute the x and y coordinates for points on sine and cosine curves\n",
    "x = np.arange(0, 3 * np.pi, 0.1)\n",
    "y_sin = np.sin(x)\n",
    "y_cos = np.cos(x)\n",
    "\n",
    "# Set up a subplot grid that has height 2 and width 1,\n",
    "# and set the first such subplot as active.\n",
    "plt.subplot(2, 1, 1)\n",
    "\n",
    "# Make the first plot\n",
    "plt.plot(x, y_sin)\n",
    "plt.title('Sine')\n",
    "\n",
    "# Set the second subplot as active, and make the second plot.\n",
    "plt.subplot(2, 1, 2)\n",
    "plt.plot(x, y_cos)\n",
    "plt.title('Cosine')\n",
    "\n",
    "# Show the figure.\n",
    "plt.show()"
   ]
  },
  {
   "cell_type": "markdown",
   "metadata": {
    "id": "gLtsST5SL9jc"
   },
   "source": [
    "You can read much more about the `subplot` function in the [documentation](http://matplotlib.org/api/pyplot_api.html#matplotlib.pyplot.subplot).\n",
    "\n",
    "How would you modify subplot values above to display the graphs side-by-side?"
   ]
  },
  {
   "cell_type": "code",
   "execution_count": null,
   "metadata": {},
   "outputs": [],
   "source": []
  }
 ],
 "metadata": {
  "colab": {
   "collapsed_sections": [],
   "provenance": [],
   "toc_visible": true
  },
  "kernelspec": {
   "display_name": "Python 3 (ipykernel)",
   "language": "python",
   "name": "python3"
  },
  "language_info": {
   "codemirror_mode": {
    "name": "ipython",
    "version": 3
   },
   "file_extension": ".py",
   "mimetype": "text/x-python",
   "name": "python",
   "nbconvert_exporter": "python",
   "pygments_lexer": "ipython3",
   "version": "3.9.7"
  }
 },
 "nbformat": 4,
 "nbformat_minor": 1
}
