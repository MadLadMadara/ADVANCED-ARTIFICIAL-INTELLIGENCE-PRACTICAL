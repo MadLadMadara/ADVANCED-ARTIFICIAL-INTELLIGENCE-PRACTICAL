{
 "cells": [
  {
   "cell_type": "code",
   "execution_count": 1,
   "metadata": {
    "id": "GQkCmS3rV2xZ"
   },
   "outputs": [],
   "source": [
    "import pandas as pd"
   ]
  },
  {
   "cell_type": "markdown",
   "metadata": {
    "id": "6rlh-eQTV2xh"
   },
   "source": [
    "Scottish Government are publishing data related to COVID-19 on their open statistics portal — statistics.gov.scot. This data is the data that supports Scottish Government’s daily updates, and is updated regularly.\n",
    "We will use one of their CSV files to understand how to import data and work with it in Python.\n",
    "\n",
    "The permalink to the csv download is [here](https://statistics.gov.scot/downloads/cube-table?uri=http%3A%2F%2Fstatistics.gov.scot%2Fdata%2Fcoronavirus-covid-19-management-information)\n",
    "\n",
    "You can also down load it and have a look at it in Excel."
   ]
  },
  {
   "cell_type": "code",
   "execution_count": 2,
   "metadata": {
    "id": "syufinJ5V2xn"
   },
   "outputs": [],
   "source": [
    "df = pd.read_csv(\"https://statistics.gov.scot/downloads/cube-table?uri=http%3A%2F%2Fstatistics.gov.scot%2Fdata%2Fcoronavirus-covid-19-management-information\")"
   ]
  },
  {
   "cell_type": "markdown",
   "metadata": {
    "id": "cm0JmeozV2xo"
   },
   "source": [
    "We will use the [Pandas library](https://pandas.pydata.org) to read this CSV file. This library already exists in the Anaconda installation.\n",
    "Pandas is a fast, powerful, flexible and easy to use open source data analysis and manipulation tool,\n",
    "built on top of the Python programming language. Its key data structure is called the DataFrame. DataFrames allow you to store and manipulate tabular data in rows of observations and columns of variables.\n",
    "\n",
    "We import pandas and usually give it the alias pd (see the first command in this notebook)\n",
    "import pandas as pd\n",
    "\n",
    "dframe = pd.read_csv(“file_name.csv”, header=None)\n",
    "\n",
    "Using the argument header=None when reading the CSV file won’t use the first row as the column names."
   ]
  },
  {
   "cell_type": "code",
   "execution_count": 3,
   "metadata": {
    "colab": {
     "base_uri": "https://localhost:8080/",
     "height": 204
    },
    "id": "qjqnNSVsV2xq",
    "outputId": "6644c64a-1911-48b1-cd31-1e5806e51bd4"
   },
   "outputs": [
    {
     "data": {
      "text/html": [
       "<div>\n",
       "<style scoped>\n",
       "    .dataframe tbody tr th:only-of-type {\n",
       "        vertical-align: middle;\n",
       "    }\n",
       "\n",
       "    .dataframe tbody tr th {\n",
       "        vertical-align: top;\n",
       "    }\n",
       "\n",
       "    .dataframe thead th {\n",
       "        text-align: right;\n",
       "    }\n",
       "</style>\n",
       "<table border=\"1\" class=\"dataframe\">\n",
       "  <thead>\n",
       "    <tr style=\"text-align: right;\">\n",
       "      <th></th>\n",
       "      <th>FeatureCode</th>\n",
       "      <th>FeatureName</th>\n",
       "      <th>FeatureType</th>\n",
       "      <th>DateCode</th>\n",
       "      <th>Measurement</th>\n",
       "      <th>Units</th>\n",
       "      <th>Value</th>\n",
       "      <th>Variable</th>\n",
       "    </tr>\n",
       "  </thead>\n",
       "  <tbody>\n",
       "    <tr>\n",
       "      <th>0</th>\n",
       "      <td>S92000003</td>\n",
       "      <td>Scotland</td>\n",
       "      <td>Country</td>\n",
       "      <td>2021-08-11</td>\n",
       "      <td>Count</td>\n",
       "      <td>Testing (PCR) - People with first test results...</td>\n",
       "      <td>38233</td>\n",
       "      <td>Testing (PCR) - People with first test results...</td>\n",
       "    </tr>\n",
       "    <tr>\n",
       "      <th>1</th>\n",
       "      <td>S92000003</td>\n",
       "      <td>Scotland</td>\n",
       "      <td>Country</td>\n",
       "      <td>2021-08-12</td>\n",
       "      <td>Count</td>\n",
       "      <td>Testing (PCR) - People with first test results...</td>\n",
       "      <td>39144</td>\n",
       "      <td>Testing (PCR) - People with first test results...</td>\n",
       "    </tr>\n",
       "    <tr>\n",
       "      <th>2</th>\n",
       "      <td>S92000003</td>\n",
       "      <td>Scotland</td>\n",
       "      <td>Country</td>\n",
       "      <td>2021-08-10</td>\n",
       "      <td>Count</td>\n",
       "      <td>Testing (PCR) - People with first test results...</td>\n",
       "      <td>36871</td>\n",
       "      <td>Testing (PCR) - People with first test results...</td>\n",
       "    </tr>\n",
       "    <tr>\n",
       "      <th>3</th>\n",
       "      <td>S92000003</td>\n",
       "      <td>Scotland</td>\n",
       "      <td>Country</td>\n",
       "      <td>2021-11-01</td>\n",
       "      <td>Ratio</td>\n",
       "      <td>Schools - Percentage absence - Percentage of o...</td>\n",
       "      <td>1.49430664</td>\n",
       "      <td>Schools - Percentage absence - Percentage of o...</td>\n",
       "    </tr>\n",
       "    <tr>\n",
       "      <th>4</th>\n",
       "      <td>S92000003</td>\n",
       "      <td>Scotland</td>\n",
       "      <td>Country</td>\n",
       "      <td>2021-10-29</td>\n",
       "      <td>Ratio</td>\n",
       "      <td>Schools - Percentage absence - Percentage of o...</td>\n",
       "      <td>1.29406244</td>\n",
       "      <td>Schools - Percentage absence - Percentage of o...</td>\n",
       "    </tr>\n",
       "  </tbody>\n",
       "</table>\n",
       "</div>"
      ],
      "text/plain": [
       "  FeatureCode FeatureName FeatureType    DateCode Measurement  \\\n",
       "0   S92000003    Scotland     Country  2021-08-11       Count   \n",
       "1   S92000003    Scotland     Country  2021-08-12       Count   \n",
       "2   S92000003    Scotland     Country  2021-08-10       Count   \n",
       "3   S92000003    Scotland     Country  2021-11-01       Ratio   \n",
       "4   S92000003    Scotland     Country  2021-10-29       Ratio   \n",
       "\n",
       "                                               Units       Value  \\\n",
       "0  Testing (PCR) - People with first test results...       38233   \n",
       "1  Testing (PCR) - People with first test results...       39144   \n",
       "2  Testing (PCR) - People with first test results...       36871   \n",
       "3  Schools - Percentage absence - Percentage of o...  1.49430664   \n",
       "4  Schools - Percentage absence - Percentage of o...  1.29406244   \n",
       "\n",
       "                                            Variable  \n",
       "0  Testing (PCR) - People with first test results...  \n",
       "1  Testing (PCR) - People with first test results...  \n",
       "2  Testing (PCR) - People with first test results...  \n",
       "3  Schools - Percentage absence - Percentage of o...  \n",
       "4  Schools - Percentage absence - Percentage of o...  "
      ]
     },
     "execution_count": 3,
     "metadata": {},
     "output_type": "execute_result"
    }
   ],
   "source": [
    "df.head(5) # Return the first n rows."
   ]
  },
  {
   "cell_type": "code",
   "execution_count": 4,
   "metadata": {
    "colab": {
     "base_uri": "https://localhost:8080/"
    },
    "id": "WW5zIt-_V2xt",
    "outputId": "96582bbc-64df-465d-db8b-1231aac1e649"
   },
   "outputs": [
    {
     "data": {
      "text/plain": [
       "FeatureCode    object\n",
       "FeatureName    object\n",
       "FeatureType    object\n",
       "DateCode       object\n",
       "Measurement    object\n",
       "Units          object\n",
       "Value          object\n",
       "Variable       object\n",
       "dtype: object"
      ]
     },
     "execution_count": 4,
     "metadata": {},
     "output_type": "execute_result"
    }
   ],
   "source": [
    "df.dtypes # this commands helps to check the data types of each column"
   ]
  },
  {
   "cell_type": "markdown",
   "metadata": {
    "id": "FFyn8OujV2xv"
   },
   "source": [
    "We can see that 'Value' which provides the counts is not currently in a numeric format also DateCode is not in a date format. "
   ]
  },
  {
   "cell_type": "code",
   "execution_count": 5,
   "metadata": {
    "id": "PSeuVsLlV2x1"
   },
   "outputs": [],
   "source": [
    "# Convert Value to numeric field and DateCode to a date\n",
    "# By setting errors=’coerce’, non-numeric values arevtransformed to NaN.\n",
    "df['Value'] = pd.to_numeric(df['Value'], errors='coerce') \n",
    "df['DateCode'] = pd.to_datetime(df['DateCode'])"
   ]
  },
  {
   "cell_type": "code",
   "execution_count": 6,
   "metadata": {
    "colab": {
     "base_uri": "https://localhost:8080/"
    },
    "id": "VmtBCpeiCkqD",
    "outputId": "7ebcf096-b0c8-4a0e-96c7-53fd67050415"
   },
   "outputs": [
    {
     "data": {
      "text/plain": [
       "FeatureCode            object\n",
       "FeatureName            object\n",
       "FeatureType            object\n",
       "DateCode       datetime64[ns]\n",
       "Measurement            object\n",
       "Units                  object\n",
       "Value                 float64\n",
       "Variable               object\n",
       "dtype: object"
      ]
     },
     "execution_count": 6,
     "metadata": {},
     "output_type": "execute_result"
    }
   ],
   "source": [
    "df.dtypes"
   ]
  },
  {
   "cell_type": "markdown",
   "metadata": {
    "id": "bR3Wm8_jV2x5"
   },
   "source": [
    "You can rerun df.dtypes to check if the data types have now changed. "
   ]
  },
  {
   "cell_type": "markdown",
   "metadata": {
    "id": "nZjKaqeyV2x8"
   },
   "source": [
    "In order to check the number of rows in this data frame. Try the following:"
   ]
  },
  {
   "cell_type": "code",
   "execution_count": 7,
   "metadata": {
    "colab": {
     "base_uri": "https://localhost:8080/"
    },
    "id": "QLFGOUl4V2x9",
    "outputId": "7702fe26-fc20-4536-c51e-ab7d2d29501c"
   },
   "outputs": [
    {
     "name": "stdout",
     "output_type": "stream",
     "text": [
      "Number of rows : 57544\n"
     ]
    }
   ],
   "source": [
    "print('Number of rows :', len(df.index))"
   ]
  },
  {
   "cell_type": "markdown",
   "metadata": {
    "id": "-9ileA2kV2x-"
   },
   "source": [
    "Lets get a smaller sample of data by focusing on rows which have 'COVID-19 patients in ICU - Confirmed' in the last column,  Variable."
   ]
  },
  {
   "cell_type": "code",
   "execution_count": 8,
   "metadata": {
    "id": "wXZFm51yV2x_"
   },
   "outputs": [],
   "source": [
    "df_icu_conf = df.query('Variable == \"COVID-19 patients in ICU - Confirmed - Length of stay more than 28 days\"')"
   ]
  },
  {
   "cell_type": "code",
   "execution_count": 9,
   "metadata": {
    "colab": {
     "base_uri": "https://localhost:8080/"
    },
    "id": "QAhdwzvXV2yD",
    "outputId": "f9d3f5a7-ae55-4dcb-8021-09b0f05d48b6"
   },
   "outputs": [
    {
     "name": "stdout",
     "output_type": "stream",
     "text": [
      "The number of rows returned for this query is  444\n"
     ]
    }
   ],
   "source": [
    "print('The number of rows returned for this query is ', len(df_icu_conf.index))"
   ]
  },
  {
   "cell_type": "markdown",
   "metadata": {
    "id": "zDQXWTq_V2yE"
   },
   "source": [
    "Of these we are filtering the dataset down to the last 14 days to show confirmed deaths for all of Scotland  (S92000003); that is we are not looking at separate NHS boards in regions (e.g. Grampian would be Code\n",
    "S08000020; Ayrshire and Arran S08000015; etc.) as these dont seem to have values in the tables. "
   ]
  },
  {
   "cell_type": "code",
   "execution_count": 10,
   "metadata": {
    "id": "4COZbF8zV2yG"
   },
   "outputs": [],
   "source": [
    "df_icu_conf_scot = df_icu_conf.query('FeatureCode == \"S92000003\"')"
   ]
  },
  {
   "cell_type": "markdown",
   "metadata": {
    "id": "EH7MR4-_V2yG"
   },
   "source": [
    "Note you can also use complex sql like queries such as groupby etc. to retreive from a pandas data frame, for instance like: df_icu_conf.groupby(by='FeatureCode').count()"
   ]
  },
  {
   "cell_type": "code",
   "execution_count": 11,
   "metadata": {
    "colab": {
     "base_uri": "https://localhost:8080/",
     "height": 419
    },
    "id": "3d-t_Em7V2yH",
    "outputId": "2acb804c-9729-4699-81d0-7837301b448a"
   },
   "outputs": [
    {
     "data": {
      "text/html": [
       "<div>\n",
       "<style scoped>\n",
       "    .dataframe tbody tr th:only-of-type {\n",
       "        vertical-align: middle;\n",
       "    }\n",
       "\n",
       "    .dataframe tbody tr th {\n",
       "        vertical-align: top;\n",
       "    }\n",
       "\n",
       "    .dataframe thead th {\n",
       "        text-align: right;\n",
       "    }\n",
       "</style>\n",
       "<table border=\"1\" class=\"dataframe\">\n",
       "  <thead>\n",
       "    <tr style=\"text-align: right;\">\n",
       "      <th></th>\n",
       "      <th>FeatureCode</th>\n",
       "      <th>FeatureName</th>\n",
       "      <th>FeatureType</th>\n",
       "      <th>DateCode</th>\n",
       "      <th>Measurement</th>\n",
       "      <th>Units</th>\n",
       "      <th>Value</th>\n",
       "      <th>Variable</th>\n",
       "    </tr>\n",
       "  </thead>\n",
       "  <tbody>\n",
       "    <tr>\n",
       "      <th>7240</th>\n",
       "      <td>S92000003</td>\n",
       "      <td>Scotland</td>\n",
       "      <td>Country</td>\n",
       "      <td>2021-01-20</td>\n",
       "      <td>Count</td>\n",
       "      <td>COVID-19 patients in ICU - Confirmed - Length ...</td>\n",
       "      <td>12.0</td>\n",
       "      <td>COVID-19 patients in ICU - Confirmed - Length ...</td>\n",
       "    </tr>\n",
       "    <tr>\n",
       "      <th>7236</th>\n",
       "      <td>S92000003</td>\n",
       "      <td>Scotland</td>\n",
       "      <td>Country</td>\n",
       "      <td>2021-01-21</td>\n",
       "      <td>Count</td>\n",
       "      <td>COVID-19 patients in ICU - Confirmed - Length ...</td>\n",
       "      <td>11.0</td>\n",
       "      <td>COVID-19 patients in ICU - Confirmed - Length ...</td>\n",
       "    </tr>\n",
       "    <tr>\n",
       "      <th>7235</th>\n",
       "      <td>S92000003</td>\n",
       "      <td>Scotland</td>\n",
       "      <td>Country</td>\n",
       "      <td>2021-01-22</td>\n",
       "      <td>Count</td>\n",
       "      <td>COVID-19 patients in ICU - Confirmed - Length ...</td>\n",
       "      <td>11.0</td>\n",
       "      <td>COVID-19 patients in ICU - Confirmed - Length ...</td>\n",
       "    </tr>\n",
       "    <tr>\n",
       "      <th>7237</th>\n",
       "      <td>S92000003</td>\n",
       "      <td>Scotland</td>\n",
       "      <td>Country</td>\n",
       "      <td>2021-01-23</td>\n",
       "      <td>Count</td>\n",
       "      <td>COVID-19 patients in ICU - Confirmed - Length ...</td>\n",
       "      <td>8.0</td>\n",
       "      <td>COVID-19 patients in ICU - Confirmed - Length ...</td>\n",
       "    </tr>\n",
       "    <tr>\n",
       "      <th>7244</th>\n",
       "      <td>S92000003</td>\n",
       "      <td>Scotland</td>\n",
       "      <td>Country</td>\n",
       "      <td>2021-01-24</td>\n",
       "      <td>Count</td>\n",
       "      <td>COVID-19 patients in ICU - Confirmed - Length ...</td>\n",
       "      <td>9.0</td>\n",
       "      <td>COVID-19 patients in ICU - Confirmed - Length ...</td>\n",
       "    </tr>\n",
       "    <tr>\n",
       "      <th>...</th>\n",
       "      <td>...</td>\n",
       "      <td>...</td>\n",
       "      <td>...</td>\n",
       "      <td>...</td>\n",
       "      <td>...</td>\n",
       "      <td>...</td>\n",
       "      <td>...</td>\n",
       "      <td>...</td>\n",
       "    </tr>\n",
       "    <tr>\n",
       "      <th>1845</th>\n",
       "      <td>S92000003</td>\n",
       "      <td>Scotland</td>\n",
       "      <td>Country</td>\n",
       "      <td>2022-04-04</td>\n",
       "      <td>Count</td>\n",
       "      <td>COVID-19 patients in ICU - Confirmed - Length ...</td>\n",
       "      <td>6.0</td>\n",
       "      <td>COVID-19 patients in ICU - Confirmed - Length ...</td>\n",
       "    </tr>\n",
       "    <tr>\n",
       "      <th>2167</th>\n",
       "      <td>S92000003</td>\n",
       "      <td>Scotland</td>\n",
       "      <td>Country</td>\n",
       "      <td>2022-04-05</td>\n",
       "      <td>Count</td>\n",
       "      <td>COVID-19 patients in ICU - Confirmed - Length ...</td>\n",
       "      <td>5.0</td>\n",
       "      <td>COVID-19 patients in ICU - Confirmed - Length ...</td>\n",
       "    </tr>\n",
       "    <tr>\n",
       "      <th>2043</th>\n",
       "      <td>S92000003</td>\n",
       "      <td>Scotland</td>\n",
       "      <td>Country</td>\n",
       "      <td>2022-04-06</td>\n",
       "      <td>Count</td>\n",
       "      <td>COVID-19 patients in ICU - Confirmed - Length ...</td>\n",
       "      <td>5.0</td>\n",
       "      <td>COVID-19 patients in ICU - Confirmed - Length ...</td>\n",
       "    </tr>\n",
       "    <tr>\n",
       "      <th>2592</th>\n",
       "      <td>S92000003</td>\n",
       "      <td>Scotland</td>\n",
       "      <td>Country</td>\n",
       "      <td>2022-04-07</td>\n",
       "      <td>Count</td>\n",
       "      <td>COVID-19 patients in ICU - Confirmed - Length ...</td>\n",
       "      <td>6.0</td>\n",
       "      <td>COVID-19 patients in ICU - Confirmed - Length ...</td>\n",
       "    </tr>\n",
       "    <tr>\n",
       "      <th>1775</th>\n",
       "      <td>S92000003</td>\n",
       "      <td>Scotland</td>\n",
       "      <td>Country</td>\n",
       "      <td>2022-04-08</td>\n",
       "      <td>Count</td>\n",
       "      <td>COVID-19 patients in ICU - Confirmed - Length ...</td>\n",
       "      <td>6.0</td>\n",
       "      <td>COVID-19 patients in ICU - Confirmed - Length ...</td>\n",
       "    </tr>\n",
       "  </tbody>\n",
       "</table>\n",
       "<p>444 rows × 8 columns</p>\n",
       "</div>"
      ],
      "text/plain": [
       "     FeatureCode FeatureName FeatureType   DateCode Measurement  \\\n",
       "7240   S92000003    Scotland     Country 2021-01-20       Count   \n",
       "7236   S92000003    Scotland     Country 2021-01-21       Count   \n",
       "7235   S92000003    Scotland     Country 2021-01-22       Count   \n",
       "7237   S92000003    Scotland     Country 2021-01-23       Count   \n",
       "7244   S92000003    Scotland     Country 2021-01-24       Count   \n",
       "...          ...         ...         ...        ...         ...   \n",
       "1845   S92000003    Scotland     Country 2022-04-04       Count   \n",
       "2167   S92000003    Scotland     Country 2022-04-05       Count   \n",
       "2043   S92000003    Scotland     Country 2022-04-06       Count   \n",
       "2592   S92000003    Scotland     Country 2022-04-07       Count   \n",
       "1775   S92000003    Scotland     Country 2022-04-08       Count   \n",
       "\n",
       "                                                  Units  Value  \\\n",
       "7240  COVID-19 patients in ICU - Confirmed - Length ...   12.0   \n",
       "7236  COVID-19 patients in ICU - Confirmed - Length ...   11.0   \n",
       "7235  COVID-19 patients in ICU - Confirmed - Length ...   11.0   \n",
       "7237  COVID-19 patients in ICU - Confirmed - Length ...    8.0   \n",
       "7244  COVID-19 patients in ICU - Confirmed - Length ...    9.0   \n",
       "...                                                 ...    ...   \n",
       "1845  COVID-19 patients in ICU - Confirmed - Length ...    6.0   \n",
       "2167  COVID-19 patients in ICU - Confirmed - Length ...    5.0   \n",
       "2043  COVID-19 patients in ICU - Confirmed - Length ...    5.0   \n",
       "2592  COVID-19 patients in ICU - Confirmed - Length ...    6.0   \n",
       "1775  COVID-19 patients in ICU - Confirmed - Length ...    6.0   \n",
       "\n",
       "                                               Variable  \n",
       "7240  COVID-19 patients in ICU - Confirmed - Length ...  \n",
       "7236  COVID-19 patients in ICU - Confirmed - Length ...  \n",
       "7235  COVID-19 patients in ICU - Confirmed - Length ...  \n",
       "7237  COVID-19 patients in ICU - Confirmed - Length ...  \n",
       "7244  COVID-19 patients in ICU - Confirmed - Length ...  \n",
       "...                                                 ...  \n",
       "1845  COVID-19 patients in ICU - Confirmed - Length ...  \n",
       "2167  COVID-19 patients in ICU - Confirmed - Length ...  \n",
       "2043  COVID-19 patients in ICU - Confirmed - Length ...  \n",
       "2592  COVID-19 patients in ICU - Confirmed - Length ...  \n",
       "1775  COVID-19 patients in ICU - Confirmed - Length ...  \n",
       "\n",
       "[444 rows x 8 columns]"
      ]
     },
     "execution_count": 11,
     "metadata": {},
     "output_type": "execute_result"
    }
   ],
   "source": [
    "df_icu_conf_scot.sort_values(by=['DateCode']) # lets sort it by DateCode"
   ]
  },
  {
   "cell_type": "markdown",
   "metadata": {
    "id": "pShYS-LNV2yH"
   },
   "source": [
    "The data frame df_icu_conf_scot now contains all observations that relate to the confirmed number of COVID-19 patients in intensive care, in Scotland. \n",
    "Lets use this to draw a plot."
   ]
  },
  {
   "cell_type": "markdown",
   "metadata": {
    "id": "OKtFLyNqV2yI"
   },
   "source": [
    "## Plotting the data\n",
    "We will use the [matplotlib](https://matplotlib.org/3.1.1/api/_as_gen/matplotlib.pyplot.gca.html) and [Seaborn](https://seaborn.pydata.org) libraries to plot the observations that relate to the confirmed number of COVID-19 patients in intensive care, in Scotland.\n",
    "Note that Seaborn is a Python data visualization library based on matplotlib. It provides a high-level interface for drawing attractive and informative statistical graphics."
   ]
  },
  {
   "cell_type": "code",
   "execution_count": 12,
   "metadata": {
    "colab": {
     "base_uri": "https://localhost:8080/",
     "height": 328
    },
    "id": "CF3WIyDuV2yJ",
    "outputId": "886e481e-382a-418f-d97d-b7c000b96bc7"
   },
   "outputs": [
    {
     "data": {
      "image/png": "[encoded data removed]",
      "text/plain": [
       "<Figure size 432x288 with 1 Axes>"
      ]
     },
     "metadata": {
      "needs_background": "light"
     },
     "output_type": "display_data"
    }
   ],
   "source": [
    "import matplotlib.pyplot as plt\n",
    "import seaborn as sns\n",
    "\n",
    "chart=sns.lineplot(x='DateCode', y='Value', data=df_icu_conf_scot) # use the df_icu_conf_scot as our data\n",
    "chart.set_title('COVID-19 patients in ICU - Confirmed')  # add a title\n",
    "chart.set_ylim(ymin=0) # set the y axis to start at zero \n",
    "for item in chart.get_xticklabels(): item.set_rotation(75) # rotate the x axis labels\n"
   ]
  },
  {
   "cell_type": "markdown",
   "metadata": {
    "id": "cmOnyBjZV2yJ"
   },
   "source": [
    "### Generating a natural language summary for a single row"
   ]
  },
  {
   "cell_type": "code",
   "execution_count": 13,
   "metadata": {
    "id": "FyGIhuxMV2yK"
   },
   "outputs": [],
   "source": [
    "# get the most recent date from the data frame df_icu_conf_scot\n",
    "df_icu_conf_latest = df_icu_conf_scot[df_icu_conf_scot['DateCode'] == df_icu_conf_scot['DateCode'].max()]"
   ]
  },
  {
   "cell_type": "code",
   "execution_count": 14,
   "metadata": {
    "colab": {
     "base_uri": "https://localhost:8080/",
     "height": 80
    },
    "id": "XCTPpw5DV2yL",
    "outputId": "aca97ff3-7660-48a2-db95-4f5afa0abbb4"
   },
   "outputs": [
    {
     "data": {
      "text/html": [
       "<div>\n",
       "<style scoped>\n",
       "    .dataframe tbody tr th:only-of-type {\n",
       "        vertical-align: middle;\n",
       "    }\n",
       "\n",
       "    .dataframe tbody tr th {\n",
       "        vertical-align: top;\n",
       "    }\n",
       "\n",
       "    .dataframe thead th {\n",
       "        text-align: right;\n",
       "    }\n",
       "</style>\n",
       "<table border=\"1\" class=\"dataframe\">\n",
       "  <thead>\n",
       "    <tr style=\"text-align: right;\">\n",
       "      <th></th>\n",
       "      <th>FeatureCode</th>\n",
       "      <th>FeatureName</th>\n",
       "      <th>FeatureType</th>\n",
       "      <th>DateCode</th>\n",
       "      <th>Measurement</th>\n",
       "      <th>Units</th>\n",
       "      <th>Value</th>\n",
       "      <th>Variable</th>\n",
       "    </tr>\n",
       "  </thead>\n",
       "  <tbody>\n",
       "    <tr>\n",
       "      <th>1775</th>\n",
       "      <td>S92000003</td>\n",
       "      <td>Scotland</td>\n",
       "      <td>Country</td>\n",
       "      <td>2022-04-08</td>\n",
       "      <td>Count</td>\n",
       "      <td>COVID-19 patients in ICU - Confirmed - Length ...</td>\n",
       "      <td>6.0</td>\n",
       "      <td>COVID-19 patients in ICU - Confirmed - Length ...</td>\n",
       "    </tr>\n",
       "  </tbody>\n",
       "</table>\n",
       "</div>"
      ],
      "text/plain": [
       "     FeatureCode FeatureName FeatureType   DateCode Measurement  \\\n",
       "1775   S92000003    Scotland     Country 2022-04-08       Count   \n",
       "\n",
       "                                                  Units  Value  \\\n",
       "1775  COVID-19 patients in ICU - Confirmed - Length ...    6.0   \n",
       "\n",
       "                                               Variable  \n",
       "1775  COVID-19 patients in ICU - Confirmed - Length ...  "
      ]
     },
     "execution_count": 14,
     "metadata": {},
     "output_type": "execute_result"
    }
   ],
   "source": [
    "df_icu_conf_latest.head() "
   ]
  },
  {
   "cell_type": "markdown",
   "metadata": {
    "id": "wXLGLEMOV2yL"
   },
   "source": [
    "To generate a natural language summary of this information we need to access each value in the column.\n",
    "\n",
    "For example using iloc, we can get the value from the Value field and pass that into a variable, called current_count.\n",
    "\n",
    "Again using iloc we can get the DateCode which is the date of the observation which we pass into another variable called lates_date, after some [formatting using strftime](https://strftime.org).\n",
    "\n",
    "We can then use in a basic string concatenation to generate a natural lanague summary:"
   ]
  },
  {
   "cell_type": "code",
   "execution_count": 15,
   "metadata": {
    "colab": {
     "base_uri": "https://localhost:8080/"
    },
    "id": "Q1FtLQhuV2yM",
    "outputId": "502cec3a-4898-4b36-9fb7-95f0f4aef137"
   },
   "outputs": [
    {
     "name": "stdout",
     "output_type": "stream",
     "text": [
      "As at Friday 08 April 2022, there were 6.0 confirmed cases of COVID-19 in intensive care units in Scotland\n"
     ]
    }
   ],
   "source": [
    "current_count = df_icu_conf_latest.iloc[0]['Value']\n",
    "latest_date = df_icu_conf_latest.iloc[0]['DateCode'].strftime(\"%A %d %B %Y\")\n",
    "print(\"As at \" + str(latest_date) + \", there were \" + str(current_count) + \" confirmed cases of COVID-19 in intensive care units in Scotland\")"
   ]
  },
  {
   "cell_type": "code",
   "execution_count": null,
   "metadata": {
    "id": "--0kPVUVKk_E"
   },
   "outputs": [],
   "source": []
  },
  {
   "cell_type": "code",
   "execution_count": null,
   "metadata": {},
   "outputs": [],
   "source": []
  }
 ],
 "metadata": {
  "colab": {
   "collapsed_sections": [],
   "provenance": []
  },
  "kernelspec": {
   "display_name": "Python 3 (ipykernel)",
   "language": "python",
   "name": "python3"
  },
  "language_info": {
   "codemirror_mode": {
    "name": "ipython",
    "version": 3
   },
   "file_extension": ".py",
   "mimetype": "text/x-python",
   "name": "python",
   "nbconvert_exporter": "python",
   "pygments_lexer": "ipython3",
   "version": "3.9.7"
  }
 },
 "nbformat": 4,
 "nbformat_minor": 1
}
