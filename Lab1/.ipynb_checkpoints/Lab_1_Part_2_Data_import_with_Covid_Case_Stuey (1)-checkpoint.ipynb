{
 "cells": [
  {
   "cell_type": "code",
   "execution_count": null,
   "metadata": {
    "id": "GQkCmS3rV2xZ"
   },
   "outputs": [],
   "source": [
    "import pandas as pd"
   ]
  },
  {
   "cell_type": "markdown",
   "metadata": {
    "id": "6rlh-eQTV2xh"
   },
   "source": [
    "Scottish Government are publishing data related to COVID-19 on their open statistics portal — statistics.gov.scot. This data is the data that supports Scottish Government’s daily updates, and is updated regularly.\n",
    "We will use one of their CSV files to understand how to import data and work with it in Python.\n",
    "\n",
    "The permalink to the csv download is [here](https://statistics.gov.scot/downloads/cube-table?uri=http%3A%2F%2Fstatistics.gov.scot%2Fdata%2Fcoronavirus-covid-19-management-information)\n",
    "\n",
    "You can also down load it and have a look at it in Excel."
   ]
  },
  {
   "cell_type": "code",
   "execution_count": null,
   "metadata": {
    "id": "syufinJ5V2xn"
   },
   "outputs": [],
   "source": [
    "df = pd.read_csv(\"https://statistics.gov.scot/downloads/cube-table?uri=http%3A%2F%2Fstatistics.gov.scot%2Fdata%2Fcoronavirus-covid-19-management-information\")"
   ]
  },
  {
   "cell_type": "markdown",
   "metadata": {
    "id": "cm0JmeozV2xo"
   },
   "source": [
    "We will use the [Pandas library](https://pandas.pydata.org) to read this CSV file. This library already exists in the Anaconda installation.\n",
    "Pandas is a fast, powerful, flexible and easy to use open source data analysis and manipulation tool,\n",
    "built on top of the Python programming language. Its key data structure is called the DataFrame. DataFrames allow you to store and manipulate tabular data in rows of observations and columns of variables.\n",
    "\n",
    "We import pandas and usually give it the alias pd (see the first command in this notebook)\n",
    "import pandas as pd\n",
    "\n",
    "dframe = pd.read_csv(“file_name.csv”, header=None)\n",
    "\n",
    "Using the argument header=None when reading the CSV file won’t use the first row as the column names."
   ]
  },
  {
   "cell_type": "code",
   "execution_count": null,
   "metadata": {
    "colab": {
     "base_uri": "https://localhost:8080/",
     "height": 204
    },
    "id": "qjqnNSVsV2xq",
    "outputId": "6644c64a-1911-48b1-cd31-1e5806e51bd4"
   },
   "outputs": [
    {
     "data": {
      "text/html": [
       "<div>\n",
       "<style scoped>\n",
       "    .dataframe tbody tr th:only-of-type {\n",
       "        vertical-align: middle;\n",
       "    }\n",
       "\n",
       "    .dataframe tbody tr th {\n",
       "        vertical-align: top;\n",
       "    }\n",
       "\n",
       "    .dataframe thead th {\n",
       "        text-align: right;\n",
       "    }\n",
       "</style>\n",
       "<table border=\"1\" class=\"dataframe\">\n",
       "  <thead>\n",
       "    <tr style=\"text-align: right;\">\n",
       "      <th></th>\n",
       "      <th>FeatureCode</th>\n",
       "      <th>DateCode</th>\n",
       "      <th>Measurement</th>\n",
       "      <th>Units</th>\n",
       "      <th>Value</th>\n",
       "      <th>Variable</th>\n",
       "    </tr>\n",
       "  </thead>\n",
       "  <tbody>\n",
       "    <tr>\n",
       "      <th>0</th>\n",
       "      <td>S92000003</td>\n",
       "      <td>2021-05-05</td>\n",
       "      <td>Count</td>\n",
       "      <td>Testing - Positive cases reported in last 7 days</td>\n",
       "      <td>1046</td>\n",
       "      <td>Testing - Positive cases reported in last 7 days</td>\n",
       "    </tr>\n",
       "    <tr>\n",
       "      <th>1</th>\n",
       "      <td>S92000003</td>\n",
       "      <td>2021-05-05</td>\n",
       "      <td>Ratio</td>\n",
       "      <td>Testing - Test positivity rate in last 7 days</td>\n",
       "      <td>1.04424778761062</td>\n",
       "      <td>Testing - Test positivity rate in last 7 days</td>\n",
       "    </tr>\n",
       "    <tr>\n",
       "      <th>2</th>\n",
       "      <td>S08000031</td>\n",
       "      <td>2021-05-05</td>\n",
       "      <td>Count</td>\n",
       "      <td>Testing - Cumulative people tested for COVID-1...</td>\n",
       "      <td>70121</td>\n",
       "      <td>Testing - Cumulative people tested for COVID-1...</td>\n",
       "    </tr>\n",
       "    <tr>\n",
       "      <th>3</th>\n",
       "      <td>S08000026</td>\n",
       "      <td>2021-05-05</td>\n",
       "      <td>Count</td>\n",
       "      <td>Testing - Cumulative people tested for COVID-1...</td>\n",
       "      <td>235</td>\n",
       "      <td>Testing - Cumulative people tested for COVID-1...</td>\n",
       "    </tr>\n",
       "    <tr>\n",
       "      <th>4</th>\n",
       "      <td>S08000025</td>\n",
       "      <td>2021-05-05</td>\n",
       "      <td>Count</td>\n",
       "      <td>Testing - Cumulative people tested for COVID-1...</td>\n",
       "      <td>72</td>\n",
       "      <td>Testing - Cumulative people tested for COVID-1...</td>\n",
       "    </tr>\n",
       "  </tbody>\n",
       "</table>\n",
       "</div>"
      ],
      "text/plain": [
       "  FeatureCode  ...                                           Variable\n",
       "0   S92000003  ...   Testing - Positive cases reported in last 7 days\n",
       "1   S92000003  ...      Testing - Test positivity rate in last 7 days\n",
       "2   S08000031  ...  Testing - Cumulative people tested for COVID-1...\n",
       "3   S08000026  ...  Testing - Cumulative people tested for COVID-1...\n",
       "4   S08000025  ...  Testing - Cumulative people tested for COVID-1...\n",
       "\n",
       "[5 rows x 6 columns]"
      ]
     },
     "execution_count": 5,
     "metadata": {},
     "output_type": "execute_result"
    }
   ],
   "source": [
    "df.head(5) # Return the first n rows."
   ]
  },
  {
   "cell_type": "code",
   "execution_count": null,
   "metadata": {
    "colab": {
     "base_uri": "https://localhost:8080/"
    },
    "id": "WW5zIt-_V2xt",
    "outputId": "96582bbc-64df-465d-db8b-1231aac1e649"
   },
   "outputs": [
    {
     "data": {
      "text/plain": [
       "FeatureCode    object\n",
       "DateCode       object\n",
       "Measurement    object\n",
       "Units          object\n",
       "Value          object\n",
       "Variable       object\n",
       "dtype: object"
      ]
     },
     "execution_count": 6,
     "metadata": {},
     "output_type": "execute_result"
    }
   ],
   "source": [
    "df.dtypes # this commands helps to check the data types of each column"
   ]
  },
  {
   "cell_type": "markdown",
   "metadata": {
    "id": "FFyn8OujV2xv"
   },
   "source": [
    "We can see that 'Value' which provides the counts is not currently in a numeric format also DateCode is not in a date format. "
   ]
  },
  {
   "cell_type": "code",
   "execution_count": null,
   "metadata": {
    "id": "PSeuVsLlV2x1"
   },
   "outputs": [],
   "source": [
    "# Convert Value to numeric field and DateCode to a date\n",
    "# By setting errors=’coerce’, non-numeric values arevtransformed to NaN.\n",
    "df['Value'] = pd.to_numeric(df['Value'], errors='coerce') \n",
    "df['DateCode'] = pd.to_datetime(df['DateCode'])"
   ]
  },
  {
   "cell_type": "code",
   "execution_count": null,
   "metadata": {
    "colab": {
     "base_uri": "https://localhost:8080/"
    },
    "id": "VmtBCpeiCkqD",
    "outputId": "7ebcf096-b0c8-4a0e-96c7-53fd67050415"
   },
   "outputs": [
    {
     "data": {
      "text/plain": [
       "FeatureCode            object\n",
       "DateCode       datetime64[ns]\n",
       "Measurement            object\n",
       "Units                  object\n",
       "Value                 float64\n",
       "Variable               object\n",
       "dtype: object"
      ]
     },
     "execution_count": 9,
     "metadata": {},
     "output_type": "execute_result"
    }
   ],
   "source": [
    "df.dtypes"
   ]
  },
  {
   "cell_type": "markdown",
   "metadata": {
    "id": "bR3Wm8_jV2x5"
   },
   "source": [
    "You can rerun df.dtypes to check if the data types have now changed. "
   ]
  },
  {
   "cell_type": "markdown",
   "metadata": {
    "id": "nZjKaqeyV2x8"
   },
   "source": [
    "In order to check the number of rows in this data frame. Try the following:"
   ]
  },
  {
   "cell_type": "code",
   "execution_count": null,
   "metadata": {
    "colab": {
     "base_uri": "https://localhost:8080/"
    },
    "id": "QLFGOUl4V2x9",
    "outputId": "7702fe26-fc20-4536-c51e-ab7d2d29501c"
   },
   "outputs": [
    {
     "name": "stdout",
     "output_type": "stream",
     "text": [
      "Number of rows : 42861\n"
     ]
    }
   ],
   "source": [
    "print('Number of rows :', len(df.index))"
   ]
  },
  {
   "cell_type": "markdown",
   "metadata": {
    "id": "-9ileA2kV2x-"
   },
   "source": [
    "Lets get a smaller sample of data by focusing on rows which have 'COVID-19 patients in ICU - Confirmed' in the last column,  Variable."
   ]
  },
  {
   "cell_type": "code",
   "execution_count": null,
   "metadata": {
    "id": "wXZFm51yV2x_"
   },
   "outputs": [],
   "source": [
    "df_icu_conf = df.query('Variable == \"COVID-19 patients in ICU - Confirmed - Length of stay more than 28 days\"')"
   ]
  },
  {
   "cell_type": "code",
   "execution_count": null,
   "metadata": {
    "colab": {
     "base_uri": "https://localhost:8080/"
    },
    "id": "QAhdwzvXV2yD",
    "outputId": "f9d3f5a7-ae55-4dcb-8021-09b0f05d48b6"
   },
   "outputs": [
    {
     "name": "stdout",
     "output_type": "stream",
     "text": [
      "The number of rows returned for this query is  239\n"
     ]
    }
   ],
   "source": [
    "print('The number of rows returned for this query is ', len(df_icu_conf.index))"
   ]
  },
  {
   "cell_type": "markdown",
   "metadata": {
    "id": "zDQXWTq_V2yE"
   },
   "source": [
    "Of these we are filtering the dataset down to the last 14 days to show confirmed deaths for all of Scotland  (S92000003); that is we are not looking at separate NHS boards in regions (e.g. Grampian would be Code\n",
    "S08000020; Ayrshire and Arran S08000015; etc.) as these dont seem to have values in the tables. "
   ]
  },
  {
   "cell_type": "code",
   "execution_count": null,
   "metadata": {
    "id": "4COZbF8zV2yG"
   },
   "outputs": [],
   "source": [
    "df_icu_conf_scot = df_icu_conf.query('FeatureCode == \"S92000003\"')"
   ]
  },
  {
   "cell_type": "markdown",
   "metadata": {
    "id": "EH7MR4-_V2yG"
   },
   "source": [
    "Note you can also use complex sql like queries such as groupby etc. to retreive from a pandas data frame, for instance like: df_icu_conf.groupby(by='FeatureCode').count()"
   ]
  },
  {
   "cell_type": "code",
   "execution_count": null,
   "metadata": {
    "colab": {
     "base_uri": "https://localhost:8080/",
     "height": 419
    },
    "id": "3d-t_Em7V2yH",
    "outputId": "2acb804c-9729-4699-81d0-7837301b448a"
   },
   "outputs": [
    {
     "data": {
      "text/html": [
       "<div>\n",
       "<style scoped>\n",
       "    .dataframe tbody tr th:only-of-type {\n",
       "        vertical-align: middle;\n",
       "    }\n",
       "\n",
       "    .dataframe tbody tr th {\n",
       "        vertical-align: top;\n",
       "    }\n",
       "\n",
       "    .dataframe thead th {\n",
       "        text-align: right;\n",
       "    }\n",
       "</style>\n",
       "<table border=\"1\" class=\"dataframe\">\n",
       "  <thead>\n",
       "    <tr style=\"text-align: right;\">\n",
       "      <th></th>\n",
       "      <th>FeatureCode</th>\n",
       "      <th>DateCode</th>\n",
       "      <th>Measurement</th>\n",
       "      <th>Units</th>\n",
       "      <th>Value</th>\n",
       "      <th>Variable</th>\n",
       "    </tr>\n",
       "  </thead>\n",
       "  <tbody>\n",
       "    <tr>\n",
       "      <th>1278</th>\n",
       "      <td>S92000003</td>\n",
       "      <td>2020-04-01</td>\n",
       "      <td>Count</td>\n",
       "      <td>Testing - Positive cases reported in last 7 days</td>\n",
       "      <td>1591.0</td>\n",
       "      <td>Testing - Positive cases reported in last 7 days</td>\n",
       "    </tr>\n",
       "    <tr>\n",
       "      <th>1450</th>\n",
       "      <td>S92000003</td>\n",
       "      <td>2020-04-02</td>\n",
       "      <td>Count</td>\n",
       "      <td>Testing - Positive cases reported in last 7 days</td>\n",
       "      <td>1708.0</td>\n",
       "      <td>Testing - Positive cases reported in last 7 days</td>\n",
       "    </tr>\n",
       "    <tr>\n",
       "      <th>1547</th>\n",
       "      <td>S92000003</td>\n",
       "      <td>2020-04-03</td>\n",
       "      <td>Count</td>\n",
       "      <td>Testing - Positive cases reported in last 7 days</td>\n",
       "      <td>1942.0</td>\n",
       "      <td>Testing - Positive cases reported in last 7 days</td>\n",
       "    </tr>\n",
       "    <tr>\n",
       "      <th>1669</th>\n",
       "      <td>S92000003</td>\n",
       "      <td>2020-04-04</td>\n",
       "      <td>Count</td>\n",
       "      <td>Testing - Positive cases reported in last 7 days</td>\n",
       "      <td>2100.0</td>\n",
       "      <td>Testing - Positive cases reported in last 7 days</td>\n",
       "    </tr>\n",
       "    <tr>\n",
       "      <th>1751</th>\n",
       "      <td>S92000003</td>\n",
       "      <td>2020-04-05</td>\n",
       "      <td>Count</td>\n",
       "      <td>Testing - Positive cases reported in last 7 days</td>\n",
       "      <td>2322.0</td>\n",
       "      <td>Testing - Positive cases reported in last 7 days</td>\n",
       "    </tr>\n",
       "    <tr>\n",
       "      <th>...</th>\n",
       "      <td>...</td>\n",
       "      <td>...</td>\n",
       "      <td>...</td>\n",
       "      <td>...</td>\n",
       "      <td>...</td>\n",
       "      <td>...</td>\n",
       "    </tr>\n",
       "    <tr>\n",
       "      <th>42536</th>\n",
       "      <td>S92000003</td>\n",
       "      <td>2021-09-11</td>\n",
       "      <td>Count</td>\n",
       "      <td>Testing - Positive cases reported in last 7 days</td>\n",
       "      <td>42884.0</td>\n",
       "      <td>Testing - Positive cases reported in last 7 days</td>\n",
       "    </tr>\n",
       "    <tr>\n",
       "      <th>42645</th>\n",
       "      <td>S92000003</td>\n",
       "      <td>2021-09-12</td>\n",
       "      <td>Count</td>\n",
       "      <td>Testing - Positive cases reported in last 7 days</td>\n",
       "      <td>42419.0</td>\n",
       "      <td>Testing - Positive cases reported in last 7 days</td>\n",
       "    </tr>\n",
       "    <tr>\n",
       "      <th>42691</th>\n",
       "      <td>S92000003</td>\n",
       "      <td>2021-09-13</td>\n",
       "      <td>Count</td>\n",
       "      <td>Testing - Positive cases reported in last 7 days</td>\n",
       "      <td>39595.0</td>\n",
       "      <td>Testing - Positive cases reported in last 7 days</td>\n",
       "    </tr>\n",
       "    <tr>\n",
       "      <th>42740</th>\n",
       "      <td>S92000003</td>\n",
       "      <td>2021-09-14</td>\n",
       "      <td>Count</td>\n",
       "      <td>Testing - Positive cases reported in last 7 days</td>\n",
       "      <td>37278.0</td>\n",
       "      <td>Testing - Positive cases reported in last 7 days</td>\n",
       "    </tr>\n",
       "    <tr>\n",
       "      <th>42859</th>\n",
       "      <td>S92000003</td>\n",
       "      <td>2021-09-15</td>\n",
       "      <td>Count</td>\n",
       "      <td>Testing - Positive cases reported in last 7 days</td>\n",
       "      <td>36385.0</td>\n",
       "      <td>Testing - Positive cases reported in last 7 days</td>\n",
       "    </tr>\n",
       "  </tbody>\n",
       "</table>\n",
       "<p>527 rows × 6 columns</p>\n",
       "</div>"
      ],
      "text/plain": [
       "      FeatureCode  ...                                          Variable\n",
       "1278    S92000003  ...  Testing - Positive cases reported in last 7 days\n",
       "1450    S92000003  ...  Testing - Positive cases reported in last 7 days\n",
       "1547    S92000003  ...  Testing - Positive cases reported in last 7 days\n",
       "1669    S92000003  ...  Testing - Positive cases reported in last 7 days\n",
       "1751    S92000003  ...  Testing - Positive cases reported in last 7 days\n",
       "...           ...  ...                                               ...\n",
       "42536   S92000003  ...  Testing - Positive cases reported in last 7 days\n",
       "42645   S92000003  ...  Testing - Positive cases reported in last 7 days\n",
       "42691   S92000003  ...  Testing - Positive cases reported in last 7 days\n",
       "42740   S92000003  ...  Testing - Positive cases reported in last 7 days\n",
       "42859   S92000003  ...  Testing - Positive cases reported in last 7 days\n",
       "\n",
       "[527 rows x 6 columns]"
      ]
     },
     "execution_count": 22,
     "metadata": {},
     "output_type": "execute_result"
    }
   ],
   "source": [
    "df_icu_conf_scot.sort_values(by=['DateCode']) # lets sort it by DateCode"
   ]
  },
  {
   "cell_type": "markdown",
   "metadata": {
    "id": "pShYS-LNV2yH"
   },
   "source": [
    "The data frame df_icu_conf_scot now contains all observations that relate to the confirmed number of COVID-19 patients in intensive care, in Scotland. \n",
    "Lets use this to draw a plot."
   ]
  },
  {
   "cell_type": "markdown",
   "metadata": {
    "id": "OKtFLyNqV2yI"
   },
   "source": [
    "## Plotting the data\n",
    "We will use the [matplotlib](https://matplotlib.org/3.1.1/api/_as_gen/matplotlib.pyplot.gca.html) and [Seaborn](https://seaborn.pydata.org) libraries to plot the observations that relate to the confirmed number of COVID-19 patients in intensive care, in Scotland.\n",
    "Note that Seaborn is a Python data visualization library based on matplotlib. It provides a high-level interface for drawing attractive and informative statistical graphics."
   ]
  },
  {
   "cell_type": "code",
   "execution_count": null,
   "metadata": {
    "colab": {
     "base_uri": "https://localhost:8080/",
     "height": 328
    },
    "id": "CF3WIyDuV2yJ",
    "outputId": "886e481e-382a-418f-d97d-b7c000b96bc7"
   },
   "outputs": [
    {
     "data": {
      "image/png": "[encoded data removed]",
      "text/plain": [
       "<Figure size 432x288 with 1 Axes>"
      ]
     },
     "metadata": {
      "needs_background": "light"
     },
     "output_type": "display_data"
    }
   ],
   "source": [
    "import matplotlib.pyplot as plt\n",
    "import seaborn as sns\n",
    "\n",
    "chart=sns.lineplot(x='DateCode', y='Value', data=df_icu_conf_scot) # use the df_icu_conf_scot as our data\n",
    "chart.set_title('COVID-19 patients in ICU - Confirmed')  # add a title\n",
    "chart.set_ylim(ymin=0) # set the y axis to start at zero \n",
    "for item in chart.get_xticklabels(): item.set_rotation(75) # rotate the x axis labels\n"
   ]
  },
  {
   "cell_type": "markdown",
   "metadata": {
    "id": "cmOnyBjZV2yJ"
   },
   "source": [
    "### Generating a natural language summary for a single row"
   ]
  },
  {
   "cell_type": "code",
   "execution_count": null,
   "metadata": {
    "id": "FyGIhuxMV2yK"
   },
   "outputs": [],
   "source": [
    "# get the most recent date from the data frame df_icu_conf_scot\n",
    "df_icu_conf_latest = df_icu_conf_scot[df_icu_conf_scot['DateCode'] == df_icu_conf_scot['DateCode'].max()]"
   ]
  },
  {
   "cell_type": "code",
   "execution_count": null,
   "metadata": {
    "colab": {
     "base_uri": "https://localhost:8080/",
     "height": 80
    },
    "id": "XCTPpw5DV2yL",
    "outputId": "aca97ff3-7660-48a2-db95-4f5afa0abbb4"
   },
   "outputs": [
    {
     "data": {
      "text/html": [
       "<div>\n",
       "<style scoped>\n",
       "    .dataframe tbody tr th:only-of-type {\n",
       "        vertical-align: middle;\n",
       "    }\n",
       "\n",
       "    .dataframe tbody tr th {\n",
       "        vertical-align: top;\n",
       "    }\n",
       "\n",
       "    .dataframe thead th {\n",
       "        text-align: right;\n",
       "    }\n",
       "</style>\n",
       "<table border=\"1\" class=\"dataframe\">\n",
       "  <thead>\n",
       "    <tr style=\"text-align: right;\">\n",
       "      <th></th>\n",
       "      <th>FeatureCode</th>\n",
       "      <th>DateCode</th>\n",
       "      <th>Measurement</th>\n",
       "      <th>Units</th>\n",
       "      <th>Value</th>\n",
       "      <th>Variable</th>\n",
       "    </tr>\n",
       "  </thead>\n",
       "  <tbody>\n",
       "    <tr>\n",
       "      <th>42821</th>\n",
       "      <td>S92000003</td>\n",
       "      <td>2021-09-15</td>\n",
       "      <td>Count</td>\n",
       "      <td>COVID-19 patients in ICU - Confirmed - Length ...</td>\n",
       "      <td>5.0</td>\n",
       "      <td>COVID-19 patients in ICU - Confirmed - Length ...</td>\n",
       "    </tr>\n",
       "  </tbody>\n",
       "</table>\n",
       "</div>"
      ],
      "text/plain": [
       "      FeatureCode  ...                                           Variable\n",
       "42821   S92000003  ...  COVID-19 patients in ICU - Confirmed - Length ...\n",
       "\n",
       "[1 rows x 6 columns]"
      ]
     },
     "execution_count": 17,
     "metadata": {},
     "output_type": "execute_result"
    }
   ],
   "source": [
    "df_icu_conf_latest.head() "
   ]
  },
  {
   "cell_type": "markdown",
   "metadata": {
    "id": "wXLGLEMOV2yL"
   },
   "source": [
    "To generate a natural language summary of this information we need to access each value in the column.\n",
    "\n",
    "For example using iloc, we can get the value from the Value field and pass that into a variable, called current_count.\n",
    "\n",
    "Again using iloc we can get the DateCode which is the date of the observation which we pass into another variable called lates_date, after some [formatting using strftime](https://strftime.org).\n",
    "\n",
    "We can then use in a basic string concatenation to generate a natural lanague summary:"
   ]
  },
  {
   "cell_type": "code",
   "execution_count": null,
   "metadata": {
    "colab": {
     "base_uri": "https://localhost:8080/"
    },
    "id": "Q1FtLQhuV2yM",
    "outputId": "502cec3a-4898-4b36-9fb7-95f0f4aef137"
   },
   "outputs": [
    {
     "name": "stdout",
     "output_type": "stream",
     "text": [
      "As at Wednesday 15 September 2021, there were 5.0 confirmed cases of COVID-19 in intensive care units in Scotland\n"
     ]
    }
   ],
   "source": [
    "current_count = df_icu_conf_latest.iloc[0]['Value']\n",
    "latest_date = df_icu_conf_latest.iloc[0]['DateCode'].strftime(\"%A %d %B %Y\")\n",
    "print(\"As at \" + str(latest_date) + \", there were \" + str(current_count) + \" confirmed cases of COVID-19 in intensive care units in Scotland\")"
   ]
  },
  {
   "cell_type": "code",
   "execution_count": null,
   "metadata": {
    "id": "--0kPVUVKk_E"
   },
   "outputs": [],
   "source": []
  }
 ],
 "metadata": {
  "colab": {
   "collapsed_sections": [],
   "provenance": []
  },
  "kernelspec": {
   "display_name": "Python 3",
   "name": "python3"
  },
  "language_info": {
   "name": "python"
  }
 },
 "nbformat": 4,
 "nbformat_minor": 0
}
